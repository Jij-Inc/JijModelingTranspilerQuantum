{
 "cells": [
  {
   "cell_type": "code",
   "execution_count": 1,
   "metadata": {},
   "outputs": [],
   "source": [
    "import qiskit as qk\n",
    "import jijmodeling as jm\n",
    "import jijmodeling.transpiler as jmt\n",
    "import jijtranspiler_qiskit.qaoa as qaoa\n",
    "import jijtranspiler_qiskit.qrao as qrao"
   ]
  },
  {
   "cell_type": "code",
   "execution_count": 20,
   "metadata": {},
   "outputs": [
    {
     "data": {
      "text/latex": [
       "$$\\begin{alignat*}{4}\\text{Problem} & \\text{: TSP} \\\\\\min & \\quad \\sum_{ i = 0 }^{ d_{\\mathrm{shape}(0)} - 1 } \\sum_{ j = 0 }^{ d_{\\mathrm{shape}(0)} - 1 } \\sum_{ t = 0 }^{ d_{\\mathrm{shape}(0)} - 1 } d_{i,j} \\cdot x_{i,t} \\cdot x_{j,\\left( t + 1 \\right) \\mod d_{\\mathrm{shape}(0)}} \\\\\\text{s.t.} & \\\\& \\text{one-city} :\\\\ &\\quad \\quad \\sum_{ \\bar{i}_{0} = 0 }^{ d_{\\mathrm{shape}(0)} - 1 } x_{\\bar{i}_{0},t} = 1,\\ \\forall t \\in \\left\\{ 0 ,\\ldots , d_{\\mathrm{shape}(0)} - 1 \\right\\} \\\\[8pt]& \\text{one-time} :\\\\ &\\quad \\quad \\sum_{ \\bar{i}_{1} = 0 }^{ d_{\\mathrm{shape}(0)} - 1 } x_{i,\\bar{i}_{1}} = 1,\\ \\forall i \\in \\left\\{ 0 ,\\ldots , d_{\\mathrm{shape}(0)} - 1 \\right\\} \\\\[8pt]& x_{i_{0},i_{1}} \\in \\{0, 1\\}\\end{alignat*}$$"
      ],
      "text/plain": [
       "<jijmodeling.problem.problem.Problem at 0x7f5a10973af0>"
      ]
     },
     "execution_count": 20,
     "metadata": {},
     "output_type": "execute_result"
    }
   ],
   "source": [
    "# TSP\n",
    "\n",
    "def tsp_model():\n",
    "    d = jm.Placeholder(\"d\", ndim=2)\n",
    "    n = d.shape[0]\n",
    "\n",
    "    x = jm.BinaryVar(\"x\", shape=(n, n))\n",
    "    i, j, t = [jm.Element(name=name, belong_to=n) for name in [\"i\", \"j\", \"t\"]]\n",
    "\n",
    "    problem = jm.Problem(\"TSP\")\n",
    "\n",
    "    problem += jm.sum([i, j, t], d[i, j]*x[i, t]*x[j, (t+1)%n])\n",
    "    problem += jm.Constraint(\"one-city\", x[:, t] == 1, forall=t)\n",
    "    problem += jm.Constraint(\"one-time\", x[i, :] == 1, forall=i)\n",
    "\n",
    "    return problem\n",
    "\n",
    "problem = tsp_model()\n",
    "problem"
   ]
  },
  {
   "cell_type": "code",
   "execution_count": 40,
   "metadata": {},
   "outputs": [
    {
     "data": {
      "text/plain": [
       "(0.0, 1.0)"
      ]
     },
     "execution_count": 40,
     "metadata": {},
     "output_type": "execute_result"
    },
    {
     "data": {
      "image/png": "[encoded data removed]",
      "text/plain": [
       "<Figure size 640x480 with 1 Axes>"
      ]
     },
     "metadata": {},
     "output_type": "display_data"
    }
   ],
   "source": [
    "import matplotlib.pyplot as plt\n",
    "import numpy as np\n",
    "\n",
    "x = [0.5, 0.7, 0.1, 0.2]\n",
    "y = [0.5, 0.8, 0.7, 0.2]\n",
    "n = len(x)\n",
    "distance = np.zeros((n, n))\n",
    "for i in range(len(x)):\n",
    "    for j in range(len(y)):\n",
    "        distance[i, j] = np.sqrt((x[i] - x[j])**2 + (y[i] - y[j])**2)\n",
    "\n",
    "plt.plot(x, y, \"o\")\n",
    "plt.xlim(0, 1)\n",
    "plt.ylim(0, 1)"
   ]
  },
  {
   "cell_type": "code",
   "execution_count": 41,
   "metadata": {},
   "outputs": [],
   "source": [
    "fixed_vars = {\"x\": {(0, 0): 1}}\n",
    "# fixed_vars[\"x\"].update({(0, i): 0 for i in range(1, n)})\n",
    "# fixed_vars[\"x\"].update({(i, 0): 0 for i in range(1, n)})\n",
    "compiled_instance = jmt.core.compile_model(problem, {\"d\": distance}, fixed_vars)"
   ]
  },
  {
   "cell_type": "markdown",
   "metadata": {},
   "source": [
    "### QUBO Solver"
   ]
  },
  {
   "cell_type": "code",
   "execution_count": 42,
   "metadata": {},
   "outputs": [],
   "source": [
    "pubo_builder = jmt.core.pubo.transpile_to_pubo(compiled_instance)\n",
    "qubo, _ = pubo_builder.get_qubo_dict()"
   ]
  },
  {
   "cell_type": "code",
   "execution_count": 43,
   "metadata": {},
   "outputs": [],
   "source": [
    "import openjij as oj\n",
    "\n",
    "sampler = oj.SASampler()\n",
    "response = sampler.sample_qubo(qubo)\n",
    "\n",
    "result = jmt.core.pubo.decode_from_openjij(response, pubo_builder, compiled_instance)"
   ]
  },
  {
   "cell_type": "code",
   "execution_count": 44,
   "metadata": {},
   "outputs": [
    {
     "data": {
      "text/plain": [
       "[array([[1., 0., 0., 0.],\n",
       "        [0., 0., 0., 1.],\n",
       "        [0., 1., 0., 0.],\n",
       "        [0., 0., 1., 0.]])]"
      ]
     },
     "execution_count": 44,
     "metadata": {},
     "output_type": "execute_result"
    }
   ],
   "source": [
    "result.to_dense().record.solution[\"x\"]"
   ]
  },
  {
   "cell_type": "markdown",
   "metadata": {},
   "source": [
    "### Qiskit with QAOA"
   ]
  },
  {
   "cell_type": "code",
   "execution_count": 45,
   "metadata": {},
   "outputs": [],
   "source": [
    "qaoa_builder = qaoa.transpile_to_qaoa_ansatz(compiled_instance)\n",
    "hamiltonian, _ = qaoa_builder.get_hamiltonian()"
   ]
  },
  {
   "cell_type": "code",
   "execution_count": 50,
   "metadata": {},
   "outputs": [],
   "source": [
    "import qiskit.circuit as qk_circ\n",
    "import qiskit.primitives as qk_p\n",
    "from scipy.optimize import minimize\n",
    "\n",
    "qaoa_ansatz = qk_circ.library.QAOAAnsatz(hamiltonian)\n",
    "\n",
    "def cost_func(parameters, ansatz, hamiltonian, estimator):\n",
    "    cost = estimator.run(ansatz, hamiltonian, parameter_values=parameters).result().values[0]\n",
    "    return cost\n",
    "\n",
    "# Run QAOA\n",
    "initial_params = [1.0, 0.6]\n",
    "estimator = qk_p.Estimator()\n",
    "optimization_history = []\n",
    "qaoa_result = minimize(cost_func, initial_params, args=(qaoa_ansatz, hamiltonian, estimator), method='COBYLA',callback = lambda x:optimization_history.append(cost_func(x,qaoa_ansatz, hamiltonian, estimator)))\n",
    "\n",
    "# Sample QAOA results\n",
    "qaoa_ansatz.measure_all()\n",
    "sampler = qk_p.Sampler()\n",
    "job = sampler.run(qaoa_ansatz, qaoa_result.x)\n",
    "result = job.result().quasi_dists\n",
    "qaoa_results = qaoa_builder.decode_from_quasi_dist(result[0])"
   ]
  },
  {
   "cell_type": "code",
   "execution_count": 61,
   "metadata": {},
   "outputs": [
    {
     "data": {
      "text/plain": [
       "[array([[1., 0., 0., 0.],\n",
       "        [0., 0., 0., 1.],\n",
       "        [0., 1., 0., 0.],\n",
       "        [0., 0., 1., 0.]])]"
      ]
     },
     "execution_count": 61,
     "metadata": {},
     "output_type": "execute_result"
    }
   ],
   "source": [
    "qaoa_results.lowest().to_dense().record.solution[\"x\"]"
   ]
  },
  {
   "cell_type": "markdown",
   "metadata": {},
   "source": [
    "## QRAO"
   ]
  },
  {
   "cell_type": "code",
   "execution_count": 59,
   "metadata": {},
   "outputs": [],
   "source": [
    "qrac_builder = qrao.transpile_to_qrac31_hamiltonian(compiled_instance)\n",
    "qrac_hamiltonian = qrac_builder.get_hamiltonian()"
   ]
  },
  {
   "cell_type": "code",
   "execution_count": 4,
   "metadata": {},
   "outputs": [],
   "source": [
    "import typing as typ\n",
    "\n",
    "def qubo_greedy_coloring(\n",
    "    qubo: dict[tuple[int, int], float],\n",
    "    max_color_group_size: int,\n",
    "    init_coloring: typ.Optional[dict[int, int]] = None,\n",
    ")->tuple[dict[int, int], dict[int, list[int]]]:\n",
    "    coloring = {}\n",
    "    if init_coloring:\n",
    "        coloring.update(init_coloring)\n",
    "    \n",
    "    max_color = max(coloring.values()) if coloring else -1\n",
    "\n",
    "    adj_matrix: dict[int, list[int]] = {}\n",
    "    for i, j in qubo.keys():\n",
    "        if i == j:\n",
    "            continue\n",
    "        if i not in adj_matrix:\n",
    "            adj_matrix[i] = []\n",
    "        if j not in adj_matrix:\n",
    "            adj_matrix[j] = []\n",
    "        adj_matrix[i].append(j)\n",
    "        adj_matrix[j].append(i)\n",
    "    \n",
    "    color_group: dict[int, list[int]] = {}\n",
    "    for index, color in coloring.items():\n",
    "        if color not in coloring:\n",
    "            color_group[color] = []\n",
    "        color_group[color].append(index)\n",
    "\n",
    "    for i, neigborhoors in adj_matrix.items():\n",
    "        if i in coloring:\n",
    "            continue\n",
    "\n",
    "        neighbor_colors = [coloring[k] for k in neigborhoors if k in coloring]\n",
    "\n",
    "        done_coloring = False\n",
    "        for color in range(max_color+1):\n",
    "            if color not in color_group or color not in neighbor_colors:\n",
    "                if color not in color_group or max_color_group_size > len(color_group[color]):\n",
    "                    coloring[i] = color\n",
    "                    done_coloring = True\n",
    "                    if color not in color_group:\n",
    "                        color_group[color] = []\n",
    "                    color_group[color].append(i)\n",
    "                    break\n",
    "        if not done_coloring:\n",
    "            coloring[i] = max_color + 1\n",
    "            color_group[max_color + 1] = [i]\n",
    "            max_color += 1\n",
    "            \n",
    "    return coloring, color_group "
   ]
  },
  {
   "cell_type": "code",
   "execution_count": 5,
   "metadata": {},
   "outputs": [
    {
     "data": {
      "text/plain": [
       "({0: 0, 1: 1, 2: 2, 3: 0}, {0: [0, 3], 1: [1], 2: [2]})"
      ]
     },
     "execution_count": 5,
     "metadata": {},
     "output_type": "execute_result"
    }
   ],
   "source": [
    "qubo = {(0, 1): -1.0, (1, 1): 1.0, (1, 2): -0.1, (2, 0): 1, (2, 3): 1}\n",
    "coloring, color_group = qubo_greedy_coloring(qubo, 2)\n",
    "coloring, color_group"
   ]
  },
  {
   "cell_type": "code",
   "execution_count": 17,
   "metadata": {},
   "outputs": [
    {
     "data": {
      "text/plain": [
       "{0: (0, <Pauli.Z: 3>),\n",
       " 3: (0, <Pauli.X: 1>),\n",
       " 1: (1, <Pauli.Z: 3>),\n",
       " 2: (2, <Pauli.Z: 3>)}"
      ]
     },
     "execution_count": 17,
     "metadata": {},
     "output_type": "execute_result"
    }
   ],
   "source": [
    "import enum\n",
    "class Pauli(enum.Enum):\n",
    "    X = enum.auto()\n",
    "    Y = enum.auto()\n",
    "    Z = enum.auto()\n",
    "\n",
    "def color_group_to_qrac31_encode(color_group: dict[int, list[int]]):\n",
    "    qrac31 = {}\n",
    "    pauli_ope = [Pauli.Z, Pauli.X, Pauli.Y]\n",
    "    for color, group in color_group.items():\n",
    "        for ope_idx, bit_index in enumerate(group):\n",
    "            qrac31[bit_index] = (color, pauli_ope[ope_idx])\n",
    "    return qrac31\n",
    "\n",
    "color_guroup = color_group_to_qrac31_encode(color_group)\n",
    "color_guroup"
   ]
  },
  {
   "cell_type": "code",
   "execution_count": 18,
   "metadata": {},
   "outputs": [],
   "source": [
    "import numpy as np\n",
    "import qiskit.quantum_info as qk_ope\n",
    "from jijtranspiler_qiskit.ising_qubo.ising_qubo import qubo_to_ising\n",
    "\n",
    "\n",
    "def qrac31_encode(qubo: dict[tuple[int, int], float], color_group: dict[int, list[int]]):\n",
    "    ising = qubo_to_ising(qubo)\n",
    "\n",
    "    encoded_ope = color_group_to_qrac31_encode(color_group)\n",
    "\n",
    "    pauli_terms: list[qk_ope.SparsePauliOp] = []\n",
    "\n",
    "    offset = ising.constant\n",
    "    n_qubit = len(color_group)\n",
    "    zero = np.zeros(n_qubit, dtype=bool)\n",
    "\n",
    "    operator_parity = {Pauli.X: (False, True), Pauli.Y: (True, False), Pauli.Z: (True, False)}\n",
    "\n",
    "    # convert linear parts of the objective function into Hamiltonian.\n",
    "    for idx, coef in ising.linear.items():\n",
    "        if coef == 0.0:\n",
    "            continue\n",
    " \n",
    "        weight = coef\n",
    "        color, idx_pauli = encoded_ope[idx]\n",
    "        z_parity, x_parity = operator_parity[idx_pauli]\n",
    "        if z_parity:\n",
    "            z_p = zero.copy()\n",
    "            z_p[color] = True\n",
    "        else:\n",
    "            z_p = zero\n",
    "\n",
    "        if x_parity:\n",
    "            x_p = zero.copy()\n",
    "            x_p[color] = True\n",
    "        else:\n",
    "            x_p = zero\n",
    "\n",
    "        pauli_terms.append(qk_ope.SparsePauliOp(qk_ope.Pauli((z_p, x_p)), weight))\n",
    "        offset += weight\n",
    "\n",
    "    # create Pauli terms\n",
    "    for (i, j), coeff in ising.quad.items():\n",
    "        if coeff == 0.0:\n",
    "            continue\n",
    "\n",
    "        weight = coeff\n",
    "\n",
    "        if i == j:\n",
    "            offset += weight\n",
    "            continue\n",
    "\n",
    "        color_i, pauli_i_index = encoded_ope[i]\n",
    "        zi_p, xi_p = operator_parity[pauli_i_index]\n",
    "\n",
    "        color_j, pauli_j_index = encoded_ope[j]\n",
    "        zj_p, xj_p = operator_parity[pauli_j_index]\n",
    "\n",
    "        if zi_p or zj_p:\n",
    "            z_p = zero.copy()\n",
    "            z_p[color_i] = zi_p\n",
    "            z_p[color_j] = zj_p\n",
    "        else:\n",
    "            z_p = zero\n",
    "\n",
    "        if xi_p or xj_p:\n",
    "            x_p = zero.copy()\n",
    "            x_p[color_i] = xi_p\n",
    "            x_p[color_j] = xj_p\n",
    "        else:\n",
    "            x_p = zero\n",
    "\n",
    "        pauli_terms.append(qk_ope.SparsePauliOp(qk_ope.Pauli((z_p, x_p)), weight))\n",
    "\n",
    "\n",
    "    if pauli_terms:\n",
    "        # Remove paulis whose coefficients are zeros.\n",
    "        qubit_op = sum(pauli_terms).simplify(atol=0)\n",
    "    else:\n",
    "        # If there is no variable, we set num_nodes=1 so that qubit_op should be an operator.\n",
    "        # If num_nodes=0, I^0 = 1 (int).\n",
    "        n_qubit = max(1, n_qubit)\n",
    "        qubit_op = qk_ope.SparsePauliOp(\"I\" * n_qubit, 0)\n",
    "\n",
    "    return qubit_op, offset\n"
   ]
  },
  {
   "cell_type": "code",
   "execution_count": 19,
   "metadata": {},
   "outputs": [
    {
     "data": {
      "text/plain": [
       "(SparsePauliOp(['IZI', 'ZII', 'IIX', 'IZZ', 'ZZI', 'ZIZ', 'ZIX'],\n",
       "               coeffs=[ 0.225+0.j,  0.475+0.j,  0.25 +0.j, -0.25 +0.j, -0.025+0.j,  0.25 +0.j,\n",
       "   0.25 +0.j]),\n",
       " -0.22499999999999998)"
      ]
     },
     "execution_count": 19,
     "metadata": {},
     "output_type": "execute_result"
    }
   ],
   "source": [
    "qrac31_encode(qubo, color_group)"
   ]
  },
  {
   "cell_type": "code",
   "execution_count": 20,
   "metadata": {},
   "outputs": [
    {
     "data": {
      "text/plain": [
       "{(0, 1): -1.0, (1, 1): 1.0, (1, 2): -0.1, (2, 0): 1, (2, 3): 1}"
      ]
     },
     "execution_count": 20,
     "metadata": {},
     "output_type": "execute_result"
    }
   ],
   "source": [
    "qubo"
   ]
  },
  {
   "cell_type": "code",
   "execution_count": 21,
   "metadata": {},
   "outputs": [
    {
     "data": {
      "text/plain": [
       "{0: (0, <Pauli.Z: 3>),\n",
       " 3: (0, <Pauli.X: 1>),\n",
       " 1: (1, <Pauli.Z: 3>),\n",
       " 2: (2, <Pauli.Z: 3>)}"
      ]
     },
     "execution_count": 21,
     "metadata": {},
     "output_type": "execute_result"
    }
   ],
   "source": [
    "color_guroup"
   ]
  },
  {
   "cell_type": "code",
   "execution_count": null,
   "metadata": {},
   "outputs": [],
   "source": []
  }
 ],
 "metadata": {
  "kernelspec": {
   "display_name": "Python 3 (ipykernel)",
   "language": "python",
   "name": "python3"
  },
  "language_info": {
   "codemirror_mode": {
    "name": "ipython",
    "version": 3
   },
   "file_extension": ".py",
   "mimetype": "text/x-python",
   "name": "python",
   "nbconvert_exporter": "python",
   "pygments_lexer": "ipython3",
   "version": "3.10.1"
  }
 },
 "nbformat": 4,
 "nbformat_minor": 2
}
