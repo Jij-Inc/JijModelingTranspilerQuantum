{
 "cells": [
  {
   "cell_type": "code",
   "execution_count": 1,
   "metadata": {},
   "outputs": [],
   "source": [
    "import jijmodeling as jm\n",
    "import jijmodeling_transpiler.core as jmc\n",
    "import numpy as np\n",
    "import matplotlib.pyplot as plt\n",
    "from scipy.optimize import minimize\n",
    "\n",
    "from jijmodeling_transpiler_quantum.qiskit.minimal_encoding.to_minimal_encoding import transpiler_to_minimal_encoding"
   ]
  },
  {
   "cell_type": "code",
   "execution_count": 2,
   "metadata": {},
   "outputs": [],
   "source": [
    "def knapsack():\n",
    "    # define variables\n",
    "    v = jm.Placeholder('v', ndim=1)\n",
    "    N = v.shape[0]\n",
    "    w = jm.Placeholder('w', ndim=1)\n",
    "    W = jm.Placeholder('W')\n",
    "    x = jm.BinaryVar('x', shape=(N,))\n",
    "    i = jm.Element('i', belong_to = (0, N))\n",
    "    # set problem\n",
    "    problem = jm.Problem('Knapsack')\n",
    "    # set objective function\n",
    "    obj = - jm.sum(i, v[i]*x[i])\n",
    "    problem += obj\n",
    "    # set total weight constarint \n",
    "    const = jm.sum(i, w[i]*x[i])\n",
    "    problem += jm.Constraint('weight', const<=W)\n",
    "    return problem"
   ]
  },
  {
   "cell_type": "code",
   "execution_count": 3,
   "metadata": {},
   "outputs": [],
   "source": [
    "#create a list for price (v) and weight (w)\n",
    "price = [5000, 7000, 2000, 1000, 4000, 3000]\n",
    "weight = [800, 1000, 600, 400, 500, 300]\n",
    "#set the capacity (constrain)\n",
    "capacity = 2000\n",
    "\n",
    "data = {'v': price, 'w':weight, 'W':capacity}\n",
    "\n",
    "problem = knapsack()"
   ]
  },
  {
   "cell_type": "code",
   "execution_count": 4,
   "metadata": {},
   "outputs": [],
   "source": [
    "compiled_instance = jmc.compile_model(problem, data, {})"
   ]
  },
  {
   "cell_type": "code",
   "execution_count": 5,
   "metadata": {},
   "outputs": [],
   "source": [
    "minimal_encoding_builder = transpiler_to_minimal_encoding(compiled_instance)"
   ]
  },
  {
   "cell_type": "code",
   "execution_count": 6,
   "metadata": {},
   "outputs": [],
   "source": [
    "minimal_encoded_instance = minimal_encoding_builder.get_encoded_instance(multipliers = {'weight': 1.0})"
   ]
  },
  {
   "cell_type": "code",
   "execution_count": 7,
   "metadata": {},
   "outputs": [],
   "source": [
    "from qiskit import QuantumRegister, AncillaRegister , QuantumCircuit\n",
    "from qiskit.circuit import  ParameterVector\n",
    "import qiskit as qk\n",
    "\n",
    "def generate_circuit(num_register_bits:int, reps:int)->qk.circuit.quantumcircuit.QuantumCircuit:\n",
    "    \"\"\"\n",
    "    Function to generate qunatum circuit (variational ansatz) for minimal encoding.\n",
    "\n",
    "    Parameters\n",
    "    ----------\n",
    "    nr : int \n",
    "        number of register qubits\n",
    "    reps : int\n",
    "        number of layer, for this specific circuit one layer consists of C-NOT and Ry rotation gate\n",
    "\n",
    "    Returns\n",
    "    -------\n",
    "    circuit : qiskit.circuit.quantumcircuit.QuantumCircuit\n",
    "        Parameterised quantum circuit\n",
    "    \"\"\"\n",
    "    #define number of qubits\n",
    "    num_qubits = num_register_bits + 1\n",
    "    qreg_q = QuantumRegister(num_register_bits, 'q')\n",
    "    areg_a = AncillaRegister(1, 'a')\n",
    "    circuit = QuantumCircuit(areg_a, qreg_q)\n",
    "    \n",
    "    #initialize a parameters\n",
    "    parameters = ParameterVector('θ', num_qubits*reps)\n",
    "    #create a dictionary of parameters with random values and return it\n",
    "    initial_params =  {parameter: np.random.random() for parameter in parameters}\n",
    "\n",
    "    #add H gate for each qubit\n",
    "    circuit.h(areg_a[0])\n",
    "    for i in range(0,num_register_bits):\n",
    "        circuit.h(qreg_q[i])\n",
    "    circuit.barrier()\n",
    "  \n",
    "    #add layers which consist of CNOT and Ry gate\n",
    "    for j in range(0,reps):\n",
    "        #CNOT\n",
    "        # circuit.cx(qreg_q[0],areg_a[0])\n",
    "        circuit.cx(areg_a[0],qreg_q[0])\n",
    "        for i in range(num_register_bits):\n",
    "            if i != 0:\n",
    "                # circuit.cx(qreg_q[i],qreg_q[i-1]) \n",
    "                circuit.cx(qreg_q[i-1],qreg_q[i]) \n",
    "\n",
    "        #Ry\n",
    "        for i in range(num_qubits):\n",
    "            if i == 0:\n",
    "                circuit.ry(parameters[num_qubits*j+i], areg_a[i])\n",
    "            else:\n",
    "                circuit.ry(parameters[num_qubits*j+i], qreg_q[i-1])  \n",
    "        circuit.barrier()\n",
    "    return circuit,initial_params"
   ]
  },
  {
   "cell_type": "code",
   "execution_count": 8,
   "metadata": {},
   "outputs": [],
   "source": [
    "ansatz,theta = generate_circuit(minimal_encoded_instance.num_register_bits,reps=2)"
   ]
  },
  {
   "cell_type": "code",
   "execution_count": 9,
   "metadata": {},
   "outputs": [],
   "source": [
    "optimized_func = minimal_encoded_instance.get_minimized_function(ansatz)"
   ]
  },
  {
   "cell_type": "code",
   "execution_count": 10,
   "metadata": {},
   "outputs": [],
   "source": [
    "history = []\n",
    "result = minimize(optimized_func, list(theta.values()),callback=lambda x:history.append(optimized_func(x)),method = 'BFGS')"
   ]
  },
  {
   "cell_type": "code",
   "execution_count": 11,
   "metadata": {},
   "outputs": [
    {
     "data": {
      "text/plain": [
       "[<matplotlib.lines.Line2D at 0x7f01746c0a30>]"
      ]
     },
     "execution_count": 11,
     "metadata": {},
     "output_type": "execute_result"
    },
    {
     "data": {
      "image/png": "[encoded data removed]",
      "text/plain": [
       "<Figure size 640x480 with 1 Axes>"
      ]
     },
     "metadata": {},
     "output_type": "display_data"
    }
   ],
   "source": [
    "plt.plot(history)"
   ]
  },
  {
   "cell_type": "code",
   "execution_count": 12,
   "metadata": {},
   "outputs": [
    {
     "data": {
      "text/plain": [
       "SampleSet(record=Record(solution={'x': [(([1, 5],), [1.0, 1.0], (6,))]}, num_occurrences=[1]), evaluation=Evaluation(energy=[], objective=[-10000.0], constraint_violations={\"weight\": [0.0]}, constraint_forall={}, constraint_values=[], penalty={}), measuring_time=MeasuringTime(solve=SolvingTime(preprocess=None, solve=None, postprocess=None), system=SystemTime(post_problem_and_instance_data=None, request_queue=None, fetch_problem_and_instance_data=None, fetch_result=None, deserialize_solution=None), total=None), metadata={})"
      ]
     },
     "execution_count": 12,
     "metadata": {},
     "output_type": "execute_result"
    }
   ],
   "source": [
    "sample_set = minimal_encoded_instance.get_optimized_state(ansatz,result.x)\n",
    "sample_set"
   ]
  },
  {
   "cell_type": "code",
   "execution_count": null,
   "metadata": {},
   "outputs": [],
   "source": []
  }
 ],
 "metadata": {
  "kernelspec": {
   "display_name": ".venv",
   "language": "python",
   "name": "python3"
  },
  "language_info": {
   "codemirror_mode": {
    "name": "ipython",
    "version": 3
   },
   "file_extension": ".py",
   "mimetype": "text/x-python",
   "name": "python",
   "nbconvert_exporter": "python",
   "pygments_lexer": "ipython3",
   "version": "3.9.13"
  },
  "orig_nbformat": 4
 },
 "nbformat": 4,
 "nbformat_minor": 2
}
