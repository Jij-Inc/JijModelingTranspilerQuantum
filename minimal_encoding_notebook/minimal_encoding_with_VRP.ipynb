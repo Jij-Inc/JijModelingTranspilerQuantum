{
 "cells": [
  {
   "cell_type": "markdown",
   "id": "120e9124",
   "metadata": {},
   "source": [
    "# Minimal encoding with VRP tutorials"
   ]
  },
  {
   "cell_type": "markdown",
   "id": "1a014162",
   "metadata": {},
   "source": [
    "### Contents\n",
    "* [Introduction](#introduction)\n",
    "* [Notations](#notations)\n",
    "* [Minimal Encoding scheme](#scheme)\n",
    "* [Implementation of minimal encoding](#min)\n",
    "     * [ Quantum state and ansaz](#min-1)\n",
    "     * [Cost function](#cost)\n",
    "     * [Optimisation](#opt)\n",
    "* [VRP](#vrp)\n",
    "* [Solving VRP](#solvevrp)"
   ]
  },
  {
   "cell_type": "markdown",
   "id": "e974a9d0",
   "metadata": {},
   "source": [
    "$$ \\newcommand{\\ket}[1]{\\left|{#1}\\right\\rangle}\n",
    "\\newcommand{\\bra}[1]{\\left\\langle{#1}\\right|} $$\n",
    "$$\\newcommand{\\braket}[2]{\\left\\langle{#1}\\middle|{#2}\\right\\rangle}$$"
   ]
  },
  {
   "cell_type": "markdown",
   "id": "eaa71036",
   "metadata": {},
   "source": [
    "## Introduction <a class='anchor' id='introduction'></a>"
   ]
  },
  {
   "cell_type": "markdown",
   "id": "dcdff076",
   "metadata": {},
   "source": [
    "This tutorials introduce you to an implementation of encoding scheme from the following papers : <br>\n",
    "* [Qubit-efficient encoding schemes for binary optimisation problems](https://quantum-journal.org/papers/q-2021-05-04-454/)　(21 Apr 2021) -- (1)\n",
    "* [Qubit efficient quantum algorithms for the vehicle routing problem on quantum computers of the NISQ era](https://arxiv.org/abs/2306.08507)　(14 Jun 2023) -- (2)"
   ]
  },
  {
   "cell_type": "markdown",
   "id": "a5c0ed9e",
   "metadata": {},
   "source": [
    "The main focus of this tutorial is to expload a possibility of minimal encoding which is a encoding scheme for QUBO problem by reproducing the procedure consider by refrences (1) and (2). In these days there exists various encoding scheme for different problems (Machine learning, numerical optimization etc) and main purpose of these schemes are to encode classical problem into a quantum problem so it can be solve using quantum problem. Main motivation behind this is that there exists a possibility of quantum computing being more efficient than classical computing. <br>\n",
    "\n",
    "However, current quantum devices (NISQ) known to have two main problems which are noise and limitted number qubits. \n",
    "To deal with these problems from software side, there are researches on error correction and error mitigation to deal with noise and on different encdoing methods to deal with limitation of number of qubits availble. <br> \n",
    "Minimal encoding belong to the second case. Specifically, to encode QUBO problem into quantum."
   ]
  },
  {
   "cell_type": "markdown",
   "id": "f9d9a5c9",
   "metadata": {},
   "source": [
    "For instance QUBO can be solve using QAOA. In this case, QUBO will be encode into Ising Hamiltonian. <br> \n",
    "In this case, it requires the same number of qubits as classical variable. So if we have 10 variables in QUBO model, then we need 10 qubits in order to encode QUBO into Ising Hamiltonian. You may realise that with real world problems, this method we will reach the limit of current quantum device pretty quickly. <br> \n",
    "This also apply to other problems, as well.<br>"
   ]
  },
  {
   "cell_type": "markdown",
   "id": "9db79287",
   "metadata": {},
   "source": [
    "This tutorial introduce a minimal encoding scheme which aim to over come this limitation cause by limited number of qubits availble on current quantum divices."
   ]
  },
  {
   "cell_type": "markdown",
   "id": "4ae86ac0",
   "metadata": {},
   "source": [
    "## Notations"
   ]
  },
  {
   "cell_type": "markdown",
   "id": "4d42795e",
   "metadata": {},
   "source": [
    "These are notations used in this tutorials."
   ]
  },
  {
   "cell_type": "markdown",
   "id": "8e90d49b",
   "metadata": {},
   "source": [
    "* $n_c$ : classical bit\n",
    "* $n_q$ : quantum bit\n",
    "* $n_r$ : quantum register bit\n",
    "* $n_a$ : quantum ancila bit\n",
    "* $ l $ : number of layer for quantum circuit (ansaz)\n"
   ]
  },
  {
   "cell_type": "markdown",
   "id": "06a64741",
   "metadata": {},
   "source": [
    "## Minimal Encoding scheme <a class='anchor' id='scheme'></a>"
   ]
  },
  {
   "cell_type": "markdown",
   "id": "fefcfce0",
   "metadata": {},
   "source": [
    "With this minimal encoding scheme, the number of qubits require for classical bits is reduced. Specifically, it requires $\\log_2 n_c$ quantum register bits and 1 quantum ancila bits. Therefore, the number of qubits it use is $$ n_q = \\log_2 n_c + 1 $$"
   ]
  },
  {
   "cell_type": "markdown",
   "id": "e3e3f2f4",
   "metadata": {},
   "source": [
    "We will discuss only mathmatical formulas in this section. All implementations will be on the next section."
   ]
  },
  {
   "cell_type": "markdown",
   "id": "d65d3fd0",
   "metadata": {},
   "source": [
    "To encode QUBO problem, we use the following parameterised quantum state\n",
    "$$ \\tag{1} \\ket{\\psi_1 (\\vec{\\theta})} = \\sum^{n_c}_{i=1} \\beta_i (\\vec{\\theta})[a_i(\\vec{\\theta}) \\ket{0}_a + b_i (\\vec{\\theta}) \\ket{1}_a] \\otimes \\ket{\\phi_i}_r $$"
   ]
  },
  {
   "cell_type": "markdown",
   "id": "528df575",
   "metadata": {},
   "source": [
    "where\n",
    "$$\\{ \\ket{\\phi_i}_r \\} \\text{ : computational basis of regsister qubits} $$\n",
    "\n",
    "$$\\{ \\ket{0}_a , \\ket{1}_a \\} \\text{ : computational basis of ancilla qubit} $$"
   ]
  },
  {
   "cell_type": "markdown",
   "id": "9e3149b3",
   "metadata": {},
   "source": [
    "To define one-to-one correspondence between each of the $n_c$ classical variables $x_i$ in $\\vec{x}$ and a unique basis state $\\ket{\\phi_i}_r$, the probability of the $i^{th}$ classical variable to have 0 or 1 can be determin as follow : \n",
    "$$ Pr(x_i = 1) = |b_i|^2  $$\n",
    "$$ Pr(x_i = 0) = 1- |b_i|^2 = |a_i|^2 $$"
   ]
  },
  {
   "cell_type": "markdown",
   "id": "e4257368",
   "metadata": {},
   "source": [
    "Additionally,  $\\beta_i(\\vec{\\theta})$ capture the likelihood of measuring each register state $\\ket{\\phi_i}$ and corresponding ancilla qubit"
   ]
  },
  {
   "cell_type": "markdown",
   "id": "3371c67c",
   "metadata": {},
   "source": [
    "For example, to encoding the probability distribution over all solutions $\\vec{x}$ of dimentions $n_c = 4$ which requires $n_r = 2$, mapping will be look like \n",
    "$$ \\ket{\\phi_1}_r = \\ket{00}_r, \\ket{\\phi_2}_r = \\ket{01}_r, \\ket{\\phi_3}_r = \\ket{10}_r,\\ket{\\phi_4}_r = \\ket{11}_r $$ and if $ \\vec{x} = (1,0,0,1) $\n",
    "then we have \n",
    "$$\\ket{\\psi_1} = (\\ket{1}_a\\ket{00}_r+\\ket{0}_a\\ket{01}_r + \\ket{0}_a\\ket{10}_r + \\ket{1}_a\\ket{11}_r)/2 $$"
   ]
  },
  {
   "cell_type": "markdown",
   "id": "8a6d1536",
   "metadata": {},
   "source": [
    "*This scheme can encode only distribution functions of statistically independent classical variables, which is a limitation of minimal encoding"
   ]
  },
  {
   "cell_type": "markdown",
   "id": "f3bae11e",
   "metadata": {},
   "source": [
    "As with standard VQAs, we define cost function as follow : \n",
    "$$ C_1(\\vec{\\theta}) = \\sum_{i,j=1}^{n_c} A_{ij} \\frac{\\langle \\hat{P_i^1}\\rangle_{\\vec{\\theta}} \\langle \\hat{P_i^j}\\rangle_{\\vec{\\theta}}}{\\langle \\hat{P_i}\\rangle_{\\vec{\\theta}}\\langle \\hat{P_j}\\rangle_{\\vec{\\theta}}}(1-\\delta_{ij}) + \\sum_{i=1}^{n_c} A_{ii} \\frac{\\langle \\hat{P}^1_i \\rangle_{\\vec{\\theta}}}{\\langle \\hat{P}_i \\rangle_{\\vec{\\theta}}}$$"
   ]
  },
  {
   "cell_type": "markdown",
   "id": "9cda1e42",
   "metadata": {},
   "source": [
    "where : \n",
    "$$ \\hat{P}_i = \\ket{\\phi_i}\\bra{\\phi_i}_r \\text{ : projectors over registers, independent of the ancilla state }$$\n",
    "$$ \\hat{P}^1_i = \\ket{1}\\bra{1}_a \\otimes \\hat{P}_i \\text{ : projectors over registers with ancilla being }\\ket{1}_a$$"
   ]
  },
  {
   "cell_type": "markdown",
   "id": "f37e95b2",
   "metadata": {},
   "source": [
    "then, expectation values are expresses as follow : \n",
    "$$ \\langle \\hat{P}_i \\rangle_{\\vec{\\theta}} = \\bra{\\psi_1 (\\vec{\\theta})}\\hat{P}_i \\ket{\\psi_1 (\\vec{\\theta})} $$\n",
    "given that \n",
    "$$ b_i(\\vec{\\theta}) = \\langle \\hat{P}_i^1 \\rangle_{\\vec{\\theta}} / \\langle \\hat{P}_i \\rangle_{\\vec{\\theta}} $$\n",
    "For a detailed derivation of the cost function, please check the appendix of the paper."
   ]
  },
  {
   "cell_type": "markdown",
   "id": "6734e9cd",
   "metadata": {},
   "source": [
    "This cost function is to minimise the parameters $ \\vec{\\theta} $. Global minimum of the cost function is the exact solution to minimize QUBO."
   ]
  },
  {
   "cell_type": "markdown",
   "id": "bc719ff3",
   "metadata": {},
   "source": [
    "The highly entangled quantum state that minimize (6) : $\\ket{\\psi} = \\sum_i \\beta_i \\ket{\\sigma_i}_a \\otimes \\ket{\\phi_i}$ with $\\sigma = \\{ 0,1 \\}$ and corresponds unambiguously to the exact solution $\\vec{x} = [\\sigma_1, .... , \\sigma_{n_c}]$ that minimize QUBO define by $A$. \n",
    "\n",
    "$C_1 (\\vec{\\theta})$ is only depends on the set of norm $\\{ |b_i|^2 \\}$, so measurements on computational basis is sufficient for estimation. <br>\n"
   ]
  },
  {
   "cell_type": "markdown",
   "id": "45f2b8de",
   "metadata": {},
   "source": [
    "The cost function cannot be reduce to a linear function of expectation values. That is why QUBO model of this encoding scheme cannot be describede with a suitable Hamiltonian. It means that we cannot use standfard Quantum optimization methods such as QAOA or VQA. "
   ]
  },
  {
   "cell_type": "markdown",
   "id": "f4650f67",
   "metadata": {},
   "source": [
    "So, we follow the following optimization procedure : \n",
    "1. Start with random starting point $\\theta_{init}$.\n",
    "2. Measure the quantum state in computation basis ($\\{ 0, 1 \\}$)\n",
    "3. Feed result to classical optimizer which update parameter $\\theta_{new}$\n",
    "4. After the function is minimzed, with the final quantum state $\\ket{\\psi(\\vec{\\theta}_{opt})}$, a set of solutions $\\{ \\vec{x} \\}$ with value $C_x = xAx$ are obtained by sampleing each variable independently follwing $ Pr(x_i = 1) = |b_i|^2 $"
   ]
  },
  {
   "cell_type": "markdown",
   "id": "8da64697",
   "metadata": {},
   "source": [
    "## Implementation of minimal encoding <a class='anchor' id='min'></a>"
   ]
  },
  {
   "cell_type": "markdown",
   "id": "b2aa0da0",
   "metadata": {},
   "source": [
    "In this section, we will see how to implement each part of minimal encoding with Python. \n",
    "1. Quantum state and ansaz (parameterised quantum circuit) \n",
    "2. Cost function \n",
    "3. Optimization procedure"
   ]
  },
  {
   "cell_type": "markdown",
   "id": "f0e0713d",
   "metadata": {},
   "source": [
    "### Quantum state and ansaz <a class='anchor' id='min-1'></a>"
   ]
  },
  {
   "cell_type": "markdown",
   "id": "3c09d386",
   "metadata": {},
   "source": [
    "First, we import all necessary libraries."
   ]
  },
  {
   "cell_type": "code",
   "execution_count": 1,
   "id": "ad462d55",
   "metadata": {},
   "outputs": [],
   "source": [
    "import qiskit as qk\n",
    "from qiskit import QuantumRegister, AncillaRegister , QuantumCircuit\n",
    "from qiskit.circuit import  ParameterVector\n",
    "\n",
    "from math import pi\n",
    "import numpy as np"
   ]
  },
  {
   "cell_type": "markdown",
   "id": "890c8390",
   "metadata": {},
   "source": [
    "The initial quantum state (1) is produced by applying parameterized unitary evolution to initial product state $\\ket{\\psi_0}$ which can be express as follow : \n",
    "\n",
    "$$ \\ket{\\psi_1(\\vec{\\theta})} = \\hat{U_1}(\\vec{\\theta})\\ket{\\psi_0} $$ "
   ]
  },
  {
   "cell_type": "markdown",
   "id": "2597302b",
   "metadata": {},
   "source": [
    "This can be express as hardware efficient quantum circuit, and a single layer of this circuit is ... "
   ]
  },
  {
   "cell_type": "code",
   "execution_count": 2,
   "id": "c9cc2e9d",
   "metadata": {},
   "outputs": [
    {
     "data": {
      "image/png": "[encoded data removed]",
      "text/plain": [
       "<Figure size 621.941x367.889 with 1 Axes>"
      ]
     },
     "execution_count": 2,
     "metadata": {},
     "output_type": "execute_result"
    }
   ],
   "source": [
    "qreg_q = QuantumRegister(3, 'q')\n",
    "areg_a = AncillaRegister(1, 'a')\n",
    "\n",
    "circuit = QuantumCircuit(areg_a, qreg_q)\n",
    "circuit.barrier()\n",
    "circuit.cx(areg_a[0], qreg_q[0])\n",
    "circuit.cx(qreg_q[0], qreg_q[1])\n",
    "circuit.ry(pi / 2, areg_a[0])\n",
    "circuit.cx(qreg_q[1], qreg_q[2])\n",
    "circuit.ry(pi / 2, qreg_q[0])\n",
    "circuit.ry(pi / 2, qreg_q[1])\n",
    "circuit.ry(pi / 2, qreg_q[2])\n",
    "circuit.barrier()\n",
    "\n",
    "\n",
    "circuit.draw(output='mpl')"
   ]
  },
  {
   "cell_type": "markdown",
   "id": "68831279",
   "metadata": {},
   "source": [
    "There is no specific number of layer specified for this encoding scheme, so you can set it to any number. However, if you increase the number of layer, it increases the number variables thus it increase the number of computations for every iteration of optimization. 4 is good number of layer to start with. "
   ]
  },
  {
   "cell_type": "markdown",
   "id": "dfba32f5",
   "metadata": {},
   "source": [
    "To construct the ansaz circuit, first we need to define the number of qubits ($n_r + n_a$) which is based on the problem and the number of layer. "
   ]
  },
  {
   "cell_type": "code",
   "execution_count": 3,
   "id": "ad9161b6",
   "metadata": {},
   "outputs": [],
   "source": [
    "#example\n",
    "nr = 3\n",
    "na = 1\n",
    "nq = 4\n",
    "l = 4"
   ]
  },
  {
   "cell_type": "markdown",
   "id": "16b44d58",
   "metadata": {},
   "source": [
    "Then we generate parameters with random numbers."
   ]
  },
  {
   "cell_type": "code",
   "execution_count": 4,
   "id": "c4228e71",
   "metadata": {},
   "outputs": [],
   "source": [
    "def init_parameter(nq:int , l:int):\n",
    "    #initialize a parameters\n",
    "    parameters = ParameterVector('θ', nq*l)\n",
    "    #create a dictionary of parameters with random values and return it\n",
    "    theta =  {parameter: np.random.random() for parameter in parameters}\n",
    "    return parameters, theta"
   ]
  },
  {
   "cell_type": "markdown",
   "id": "f225f2c3",
   "metadata": {},
   "source": [
    "We now generate a parameterized circuit (ansaz). Do not forget to apply Hadmard gate as a first step before adding layers."
   ]
  },
  {
   "cell_type": "code",
   "execution_count": 5,
   "id": "41050783",
   "metadata": {},
   "outputs": [],
   "source": [
    "def generate_circuit(nr:int, na:int, l:int, parameters:np.array)->qk.circuit.quantumcircuit.QuantumCircuit:\n",
    "    #define number of qubits\n",
    "    nq = nr + na\n",
    "    qreg_q = QuantumRegister(nr, 'q')\n",
    "    areg_a = AncillaRegister(na, 'a')\n",
    "    circuit = QuantumCircuit(areg_a, qreg_q)\n",
    "\n",
    "    #add H gate for each qubit\n",
    "    circuit.h(areg_a[0])\n",
    "    for i in range(0,nr):\n",
    "        circuit.h(qreg_q[i])\n",
    "    circuit.barrier()\n",
    "  \n",
    "    #add layers which consist of CNOT and Ry gate\n",
    "    for j in range(0,l):\n",
    "        #CNOT\n",
    "        # circuit.cx(qreg_q[0],areg_a[0])\n",
    "        circuit.cx(areg_a[0],qreg_q[0])\n",
    "        for i in range(nr):\n",
    "            if i != 0:\n",
    "                # circuit.cx(qreg_q[i],qreg_q[i-1]) \n",
    "                circuit.cx(qreg_q[i-1],qreg_q[i]) \n",
    "\n",
    "        #Ry\n",
    "        for i in range(nq):\n",
    "            if i == 0:\n",
    "                circuit.ry(parameters[nq*j+i], areg_a[i])\n",
    "            else:\n",
    "                circuit.ry(parameters[nq*j+i], qreg_q[i-1])  \n",
    "        circuit.barrier()\n",
    "    return circuit"
   ]
  },
  {
   "cell_type": "code",
   "execution_count": 6,
   "id": "a6fd58f0",
   "metadata": {},
   "outputs": [
    {
     "data": {
      "image/png": "[encoded data removed]",
      "text/plain": [
       "<Figure size 1959.72x367.889 with 1 Axes>"
      ]
     },
     "execution_count": 6,
     "metadata": {},
     "output_type": "execute_result"
    }
   ],
   "source": [
    "parameters, theta = init_parameter(nq, l)\n",
    "circuit = generate_circuit(nr, na, l, parameters)\n",
    "circuit.draw(output='mpl')"
   ]
  },
  {
   "cell_type": "markdown",
   "id": "98150c20",
   "metadata": {},
   "source": [
    "### Cost function <a class='anchor' id='cost'></a>"
   ]
  },
  {
   "cell_type": "markdown",
   "id": "7bc1e8a0",
   "metadata": {},
   "source": [
    "Recall the cost function : \n",
    "$$ C_1(\\vec{\\theta}) = \\sum_{i,j=1}^{n_c} A_{ij} \\frac{\\langle \\hat{P}_i^1\\rangle_{\\vec{\\theta}} \\langle \\hat{P}_i^1\\rangle_{\\vec{\\theta}}}{\\langle \\hat{P}_i\\rangle_{\\vec{\\theta}}\\langle \\hat{P}_j\\rangle_{\\vec{\\theta}}}(1-\\delta_{ij}) + \\sum_{i=1}^{n_c} A_{ii} \\frac{\\langle \\hat{P}^1_i \\rangle_{\\vec{\\theta}}}{\\langle \\hat{P}_i \\rangle_{\\vec{\\theta}}}$$"
   ]
  },
  {
   "cell_type": "markdown",
   "id": "bd7237c2",
   "metadata": {},
   "source": [
    "Summation can be express using nested for loop, and setting each expectation values as $P$ and $P^1$ we can easily write a function as follow : "
   ]
  },
  {
   "cell_type": "code",
   "execution_count": 7,
   "id": "6fbe03c7",
   "metadata": {},
   "outputs": [],
   "source": [
    "def init_cost_function(A:np.ndarray, nc:int):\n",
    "    #define cost function\n",
    "    def cost_function(P1:np.array, P:np.array)->float:\n",
    "        # first sum of cost function \n",
    "        first_sum = 0\n",
    "        for i in range(nc):\n",
    "            for j in range(nc):\n",
    "                if i != j:\n",
    "                    # first_sum += A[i][j]*(P1[i]*P1[j])/(P[i]*P[j])\n",
    "                    first_sum += A[i][j]*(P1[i]/P[i])*(P1[j]/P[j])\n",
    "                # else:\n",
    "                #     first_sum += A[i][i]*(P1[i]/P[i])\n",
    "        # second sum of cost function \n",
    "        second_sum = 0\n",
    "        for i in range(nc):\n",
    "            second_sum += A[i][i]*(P1[i]/P[i])\n",
    "\n",
    "        result = first_sum + second_sum\n",
    "        return  result\n",
    "    \n",
    "    return cost_function"
   ]
  },
  {
   "cell_type": "markdown",
   "id": "417ab3b6",
   "metadata": {},
   "source": [
    "Where $A$ is a real symetric matrix from QUBO. <br> \n",
    "We define function inside another function just so we don't have to pass $A$ every time we compute cost function."
   ]
  },
  {
   "cell_type": "markdown",
   "id": "53ec08e1",
   "metadata": {},
   "source": [
    "We talk about how to compute expectation value on the next section."
   ]
  },
  {
   "cell_type": "markdown",
   "id": "0a927476",
   "metadata": {},
   "source": [
    "### Optimisation <a class='anchor' id='opt'></a>"
   ]
  },
  {
   "cell_type": "code",
   "execution_count": 8,
   "id": "34d36a19",
   "metadata": {},
   "outputs": [],
   "source": [
    "from qiskit.primitives import Estimator\n",
    "from qiskit.quantum_info import SparsePauliOp\n",
    "# from qiskit_ibm_runtime import QiskitRuntimeService, Estimator\n",
    "\n",
    "import itertools\n"
   ]
  },
  {
   "cell_type": "markdown",
   "id": "9664565b",
   "metadata": {},
   "source": [
    "Recall that we cannot use general quantum optimization algorithm such as QAOA and VQA, we need to set a procedure. \n",
    "The main thing on this part is to implement the function that will be optimized using classical optimizor.\n",
    "Actually, we already implemented the cost function but we have not implement how to obtain values for $P$ and $P^1$. To obtain those values, we can use Qiskit Primitives Estimator (https://qiskit.org/documentation/apidoc/primitives.html). With this, we can easily compute the expectation values."
   ]
  },
  {
   "cell_type": "markdown",
   "id": "ec2d0112",
   "metadata": {},
   "source": [
    "The expectation value can be compute as follow : \n",
    "$$ \\bra{\\psi_i(\\theta_k)} H_j \\ket{\\psi_i(\\theta_k)}$$\n",
    "where : \n",
    "- $\\psi(\\theta)$ -> Quantum circuit\n",
    "- $H_j$ -> Observable\n",
    "- $\\theta_k$ -> Parameter values"
   ]
  },
  {
   "cell_type": "markdown",
   "id": "4913652a",
   "metadata": {},
   "source": [
    "Quantum circuit is already implemented, and parameter values are updated every iteration of optimization. So now we need to implement the observables which is a list of Pauli operators. We can implement them easily using Qiskit SparsePauliOp (https://qiskit.org/documentation/stubs/qiskit.quantum_info.SparsePauliOp.html#qiskit.quantum_info.SparsePauliOp)"
   ]
  },
  {
   "cell_type": "markdown",
   "id": "ba27f357",
   "metadata": {},
   "source": [
    "Observables we are interested in this case is the all possible outcomes of the circuit. Since we measure the final quantum state with computational basis, observables are all possible combination of $\\ket{0}$ and $\\ket{1}$ <br>\n",
    "Recall that $\\sigma_Z \\ket{0} = \\ket{0}$ and $\\sigma_Z \\ket{1} = -\\ket{1}$, we can see that Pauli operator for $\\ket{0}$ and $\\ket{1}$ are quite simple as follow : \n",
    "- $\\ket{0} \\: => \\: \\frac{1}{2}(\\sigma_I + \\sigma_Z) \\ket{0}$\n",
    "- $\\ket{1} \\: => \\: \\frac{1}{2}(\\sigma_I - \\sigma_Z) \\ket{1}$\n",
    "Now, we just need to combine them together using a tensor product. <br>\n",
    "Let us now implement those Pauli Operators and the function for optimization. "
   ]
  },
  {
   "cell_type": "markdown",
   "id": "d04cf4bf",
   "metadata": {},
   "source": [
    "Recall that, \n",
    "$$ \\langle \\hat{P}_i \\rangle_{\\vec{\\theta}} = \\bra{\\psi_1 (\\vec{\\theta})}\\hat{P}_i \\ket{\\psi_1 (\\vec{\\theta})} $$\n",
    "$$ \\langle \\hat{P}_i^1 \\rangle_{\\vec{\\theta}} = \\bra{\\psi_1 (\\vec{\\theta})}\\hat{P}_i^1 \\ket{\\psi_1 (\\vec{\\theta})} $$\n",
    "where \n",
    "$$ \\hat{P}_i = \\ket{\\phi_i}\\bra{\\phi_i}_r \\:,\\:\\:\\hat{P}^1_i = \\ket{1}\\bra{1}_a \\otimes \\hat{P}_i $$"
   ]
  },
  {
   "cell_type": "code",
   "execution_count": 9,
   "id": "a2e63192",
   "metadata": {},
   "outputs": [],
   "source": [
    "def define_pauli_op(nr:int, ancilla:bool=False)->list[SparsePauliOp]:\n",
    "    #total number of qubits (nq+na) where na is number of ancilla qubits and is always 1\n",
    "    #get all binary 2^nq pattern\n",
    "    l = [list(i) for i in itertools.product([0, 1], repeat=nr)]\n",
    "    l = np.array(l)\n",
    "\n",
    "    #basic pieces of SparsePauliOp \n",
    "    #PauliOp for |0> \n",
    "    P0 = SparsePauliOp.from_list([('I', 1/2), ('Z', 1/2)])\n",
    "    #PauliOp for |1> \n",
    "    P1 = SparsePauliOp.from_list([('I', 1/2), ('Z', -1/2)])\n",
    "    #Indentiy op\n",
    "    Id = SparsePauliOp.from_list([('I', 1)])\n",
    "\n",
    "    #init list of SparsePauliOp \n",
    "    pauli_op = []\n",
    "    for i in range(len(l)):\n",
    "        pauli_op.append(SparsePauliOp.from_list([('',1)]))\n",
    "        for j in l[i]:\n",
    "            if j == 0:\n",
    "                #|0>\n",
    "                pauli_op[i] = pauli_op[i].tensor(P0)\n",
    "            else: \n",
    "                #|1> \n",
    "                pauli_op[i] = pauli_op[i].tensor(P1)\n",
    "\n",
    "    #add ancilla qubit\n",
    "    for i in range(len(pauli_op)):\n",
    "        if ancilla == True:\n",
    "            pauli_op[i] = pauli_op[i].tensor(P1)\n",
    "        else:\n",
    "            pauli_op[i] = pauli_op[i].tensor(Id)\n",
    "    \n",
    "    return pauli_op"
   ]
  },
  {
   "cell_type": "code",
   "execution_count": 10,
   "id": "5a4a8ac0",
   "metadata": {},
   "outputs": [],
   "source": [
    "def init_func(nc:int, nr:int, na:int, \n",
    "              circuit:qk.circuit.quantumcircuit.QuantumCircuit,\n",
    "              A:np.ndarray, \n",
    "              progress_history:list,\n",
    "              num_shots:int = None):\n",
    "    nq = nr + na\n",
    "    #get expectation values from a circuit\n",
    "    #get a list of H (observables), which is a list of SparsePauliOp\n",
    "    H = define_pauli_op(nr)\n",
    "    Ha = define_pauli_op(nr, ancilla=True)\n",
    "    \n",
    "    cost_function = init_cost_function(A, nc)\n",
    "    \n",
    "    #using IBM simulator or quantum device\n",
    "#     service = QiskitRuntimeService(channel=\"ibm_quantum\", token=\"c2ceaa1ae11ea3b0fecd9657e6f3355f8063b077e84e743f28452c6493c42431060f6dd8c124e396f4c72cda329630fef92088c341f0353a77524d79945734dd\")\n",
    "#     backend = service.backend(\"ibmq_qasm_simulator\")\n",
    "#     estimator = Estimator(backend=backend)\n",
    "    \n",
    "    \n",
    "    estimator = Estimator()\n",
    "    \n",
    "    if num_shots is not None:\n",
    "        estimator.set_options(shots=num_shots)\n",
    "    \n",
    "    def func(theta:dict)->float:\n",
    "        #get a expectation value of each H\n",
    "        job1 = estimator.run([circuit]*len(H),H,[theta]*len(H))\n",
    "        P = job1.result()\n",
    "        # print(f\"The primitive-job finished with result {P}\")\n",
    "\n",
    "        job2 = estimator.run([circuit]*len(H),Ha,[theta]*len(H))\n",
    "        P1 = job2.result()\n",
    "        # print(f\"The primitive-job finished with result {P1}\")\n",
    "\n",
    "        result = cost_function(P1.values, P.values)\n",
    "        #keep progress of the minimization just so we can plot it later\n",
    "        progress_history.append(result)\n",
    "        # print(f\"The result of cost function is {result}\")\n",
    "        return result\n",
    "\n",
    "    return func"
   ]
  },
  {
   "cell_type": "markdown",
   "id": "392a124c",
   "metadata": {},
   "source": [
    "Again, we define function inside another function so we don't have to pass so many parameters every iteration of the optimization. Only parameter change on each iteration is the $\\theta$ <br>\n",
    "Side note:notice that you can set the number of shot (or number of measurememnt). When it is not set for any number, it computes exact expectation value. We found that, setting it to None produces the most stable result overall. But you are welcome to experiment with it"
   ]
  },
  {
   "cell_type": "markdown",
   "id": "0d0e8f1e",
   "metadata": {},
   "source": [
    "After the $\\theta$ value is minimized, we will get the final quantum state using the final values of $\\theta$. Then obtain the final array of binary based on the probability. <br> \n",
    "Recall the quantum state we initially define : \n",
    "$$\\ket{\\psi_1 (\\vec{\\theta})} = \\sum^{n_c}_{i=1} \\beta_i (\\vec{\\theta})[a_i(\\vec{\\theta}) \\ket{0}_a + b_i (\\vec{\\theta}) \\ket{1}_a] \\otimes \\ket{\\phi_i}_r $$\n",
    "We obtain the final binary array based on the ancila qubits which are define with probability s.t. \n",
    "- $Pr(x_i = 1) = |b_i|^2$\n",
    "- $Pr(x_i = 0) = 1 - |b_i|^2$ <br>\n",
    "\n",
    "These probability can be computed by : \n",
    "$$ b_i(\\vec{\\theta}) = \\frac{\\langle \\hat{P}_i^1 \\rangle_{\\vec{\\theta}}}{\\langle \\hat{P}_i \\rangle_{\\vec{\\theta}}}$$\n",
    "consider that \n",
    "$$ \\frac{\\hat{P}_i^1}{\\hat{P}_i} = \\frac{\\ket{1}\\bra{1}_a \\otimes \\ket{\\phi_i}\\bra{\\phi_i}_r}{\\ket{\\phi_i}\\bra{\\phi_i}_r} = \\ket{1}\\bra{1}_a$$\n",
    "so we can find $b_i(\\theta)$ by : \n",
    "$$ \n",
    "\\frac{\\langle \\hat{P}_i^1 \\rangle_{\\vec{\\theta}}}{\\langle \\hat{P}_i \\rangle_{\\vec{\\theta}}} = \n",
    "\\frac{\\bra{\\psi_1 (\\vec{\\theta})}\\hat{P}_i^1 \\ket{\\psi_1 (\\vec{\\theta})}}{\\bra{\\psi_1 (\\vec{\\theta})}\\hat{P}_i \\ket{\\psi_1 (\\vec{\\theta})}} $$\n",
    "\n",
    "After compute all $|b_i(\\vec{\\theta})|^2$, we also have $|a_i(\\vec{\\theta})|^2 = 1 - |b_i(\\vec{\\theta})|^2$. \n",
    "The function below decide $x_i$ on those two values such that \n",
    "- If $|b_i(\\vec{\\theta})|^2 > |a_i(\\vec{\\theta})|^2 => x_i = 1$ \n",
    "- Else $x_i = 0$\n",
    "\n",
    "Please note that the function below does not take into account the case when $|b_i(\\vec{\\theta})|^2 \\text{ and } |a_i(\\vec{\\theta})|^2 $ are very close to each other or equal. Simply because we never had such case while trying to solve optimization problems with minimal encoding. "
   ]
  },
  {
   "cell_type": "code",
   "execution_count": 11,
   "id": "4932cd9f",
   "metadata": {},
   "outputs": [],
   "source": [
    "def get_ancilla_prob(theta:dict, \n",
    "                     circuit:qk.circuit.quantumcircuit.QuantumCircuit, \n",
    "                     nr:int)->np.array:\n",
    "    estimator = Estimator()\n",
    "    #define observable to calculate expectation value\n",
    "    H = define_pauli_op(nr, ancilla=False)\n",
    "    Ha = define_pauli_op(nr,ancilla=True)\n",
    "    #get expectation values from\n",
    "    job1 = estimator.run([circuit]*len(H),H,[theta]*len(H))\n",
    "    P = job1.result()\n",
    "#     print(f\"The primitive-job finished with result {P}\")\n",
    "    job2 = estimator.run([circuit]*len(H),Ha,[theta]*len(H))\n",
    "    P1 = job2.result()\n",
    "#     print(f\"The primitive-job finished with result {P1}\")\n",
    "    #compute b_i and a_i\n",
    "    b_sq=[] # list of probability of ancilla qubit being |1>\n",
    "    a_sq=[] # list of probability of ancilla qubit being |0>\n",
    "    for i in range(len(P.values)):\n",
    "        val = (P1.values[i] / P.values[i])**2\n",
    "        b_sq.append(val)\n",
    "        a_sq.append(1 - b_sq[i])\n",
    "\n",
    "    final_binary = []\n",
    "    #compare a and b and pick the larger one\n",
    "    for i in range(len(a_sq)):\n",
    "        if a_sq[i] > b_sq[i]:\n",
    "            final_binary.append(0)\n",
    "        else:\n",
    "            final_binary.append(1)\n",
    "\n",
    "    print(f\"b is Pr(x=1){b_sq}\")\n",
    "    print(f\"a is Pr(x=0){a_sq}\")\n",
    "    #need to fix return value\n",
    "    # print(f\"final binary is {final_binary}\")\n",
    "    final_binary = np.array(final_binary)\n",
    "    return final_binary"
   ]
  },
  {
   "cell_type": "markdown",
   "id": "cb69b4dd",
   "metadata": {},
   "source": [
    "The return value of the function corresponds to the solution $\\vec{x}$ that minimized QUBO problem."
   ]
  },
  {
   "cell_type": "markdown",
   "id": "f23448ad",
   "metadata": {},
   "source": [
    "## VRP <a class='anchor' id='vrp'></a>"
   ]
  },
  {
   "cell_type": "markdown",
   "id": "139eda77",
   "metadata": {},
   "source": [
    "First, we import all necessary libraries for this section"
   ]
  },
  {
   "cell_type": "code",
   "execution_count": 12,
   "id": "3f2a0fc2",
   "metadata": {},
   "outputs": [],
   "source": [
    "import jijmodeling as jm\n",
    "import geocoder as gc\n",
    "import math"
   ]
  },
  {
   "cell_type": "markdown",
   "id": "82850eba",
   "metadata": {},
   "source": [
    "In this section we define the VRP we consider for this tutorial, and implement it.\n",
    "\n",
    "VRP is well known combinational optimization problem where goal is to find the best set of routes for fleet of vechiles. Definition of \"the best set of routes\" changes depends on how you define the problem.\n",
    "There are various different varient of VRP and also, there are many different ways to solve it. \n",
    "\n",
    "One of example for VRP is optimizing the delivery system in Japan. Japanese delivery oftern has specific time and date that a packet need to be delier to a certain customer. With VRP, you can find the best combination of routes for fleet of vechiles that is efficient and satisfies all requirements (time and date). Also, you might need to consider the capacity of each vechicles etc. "
   ]
  },
  {
   "cell_type": "markdown",
   "id": "211f63c2",
   "metadata": {},
   "source": [
    "The refrence (2) uses VRPWT (Vechile routing problem with time window) with route based formulation. \n",
    "With the route based formulation, first we generate possible routes with given locations, then feed the costs of those routes to optimizer to find the best set of routes. So key part of this formulation is how to generate routes and what constraints we set such as time window and vechicle capacity. Time window is one of the component that we take into consideration when we generate routes.\n",
    "However, adding those limitations increase complexity of route generating process. \n",
    "Considering that our focus here is minimal encoding and not VRP, we are not considering time window and just using simplest form of VRP to explore the possibility of ninimum encoing."
   ]
  },
  {
   "cell_type": "markdown",
   "id": "a5d8a9f0",
   "metadata": {},
   "source": [
    "The VRP we define for in this case only consider the cost of each rotue which is a distance. We also have constrain where each locations are visited only once except the depot where all vechicle depart and return to. <br>"
   ]
  },
  {
   "cell_type": "markdown",
   "id": "b7574ac1",
   "metadata": {},
   "source": [
    "First, we define each variables and implement a mathmatical formula using JijModeling : "
   ]
  },
  {
   "cell_type": "markdown",
   "id": "3879a825",
   "metadata": {},
   "source": [
    "- R: set of routes \n",
    "- r: $r \\in R$, each routes\n",
    "- N: set of locations\n",
    "- n: $n \\in N$, each location\n",
    "- i: each location except the depot\n",
    "- x: $x\\in \\{ 0, 1 \\}$\n",
    "- d: $\\delta$, equal to 1 if node $i$ lies in route $r$ and 0 otherwise"
   ]
  },
  {
   "cell_type": "code",
   "execution_count": 13,
   "id": "bb335770",
   "metadata": {},
   "outputs": [
    {
     "name": "stdout",
     "output_type": "stream",
     "text": [
      "<jijmodeling.problem.problem.Problem object at 0x1193bbc10>\n"
     ]
    },
    {
     "data": {
      "text/latex": [
       "$$\\begin{alignat*}{4}\\text{Problem} & \\text{: VRPTW} \\\\\\min & \\quad \\sum_{ r = 0 }^{ R - 1 } c_{r} \\cdot x_{r} \\\\\\text{s.t.} & \\\\& \\text{one-time} :\\\\ &\\quad \\quad \\sum_{ r = 0 }^{ R - 1 } \\delta_{r,i} \\cdot x_{r} = 1,\\ \\forall i \\in \\left\\{ 1 ,\\ldots , \\mathscr{N} - 1 \\right\\} \\\\[8pt]& x_{i_{0}} \\in \\{0, 1\\}\\end{alignat*}$$"
      ],
      "text/plain": [
       "<jijmodeling.problem.problem.Problem at 0x1193bbc10>"
      ]
     },
     "execution_count": 13,
     "metadata": {},
     "output_type": "execute_result"
    }
   ],
   "source": [
    "def set_problem():\n",
    "    # Define the problem\n",
    "    c = jm.Placeholder('c', ndim=1) #cost of each route\n",
    "    n = jm.Placeholder('n', ndim=1) #node (location)\n",
    "    d = jm.Placeholder('d', ndim=2).set_latex(r'\\delta') #delta\n",
    "\n",
    "    R = c.shape[0].set_latex(\"R\") #set of routes\n",
    "    N = n.shape[0].set_latex(r'\\mathscr{N}') #set of nodes which is locations\n",
    "    r = jm.Element('r', belong_to=(R)) \n",
    "    i = jm.Element('i', belong_to=(1,N))\n",
    "    x = jm.BinaryVar('x', shape = R)\n",
    "\n",
    "\n",
    "    problem = jm.Problem('VRPTW')\n",
    "    problem += jm.sum(r, c[r]*x[r])\n",
    "    const = jm.sum(r, d[r,i]*x[r])\n",
    "    problem += jm.Constraint(\"one-time\", const==1, forall=i)\n",
    "    print(problem)\n",
    "\n",
    "    return problem\n",
    "set_problem()"
   ]
  },
  {
   "cell_type": "markdown",
   "id": "6ed6c337",
   "metadata": {},
   "source": [
    "Next, we generate instance data for the problem. <br> \n",
    "We can use random location but we define locations by ourselves for simplicity. We set only five locations so we can see if solution is correct or not.\n",
    "\n",
    "For example : "
   ]
  },
  {
   "cell_type": "code",
   "execution_count": 14,
   "id": "62c088b6",
   "metadata": {},
   "outputs": [],
   "source": [
    "points = ['千代田区' ,'練馬区', '品川区', '文京区', '荒川区']\n",
    "n = [index for index in range(len(points))] #index for each location"
   ]
  },
  {
   "cell_type": "markdown",
   "id": "167dbb13",
   "metadata": {},
   "source": [
    "The first location on the points list is the depot."
   ]
  },
  {
   "cell_type": "code",
   "execution_count": 15,
   "id": "a79c9b51",
   "metadata": {},
   "outputs": [
    {
     "data": {
      "text/plain": [
       "'千代田区'"
      ]
     },
     "execution_count": 15,
     "metadata": {},
     "output_type": "execute_result"
    }
   ],
   "source": [
    "depot = points[0]\n",
    "depot"
   ]
  },
  {
   "cell_type": "markdown",
   "id": "cac10f1a",
   "metadata": {},
   "source": [
    "We use Python library geocoder (https://pypi.org/project/geocoder/) to generate all location data."
   ]
  },
  {
   "cell_type": "code",
   "execution_count": 16,
   "id": "6c37e6a4",
   "metadata": {},
   "outputs": [],
   "source": [
    "def geo_information(points:list[str]):\n",
    "     # get the latitude and longitude\n",
    "    latlng_list = []\n",
    "    try:\n",
    "        for point in points:\n",
    "            location = gc.osm(point)\n",
    "            latlng_list.append(location.latlng)\n",
    "        # make distance matrix\n",
    "        num_points = len(points)\n",
    "        inst_d = np.zeros((num_points, num_points))\n",
    "        for i in range(num_points):\n",
    "            for j in range(num_points):\n",
    "                a = np.array(latlng_list[i])\n",
    "                b = np.array(latlng_list[j])\n",
    "                inst_d[i][j] = np.linalg.norm(a-b)\n",
    "        geo_data = {'points': points, 'latlng_list': latlng_list}\n",
    "        distance_data = {'d': inst_d}\n",
    "    except:\n",
    "        print(\"Your machine may not connect to the internet. Please check your connection.\")\n",
    "        print(\"If that's not the case, there may be a problem with the location you entered.\")\n",
    "        return 0\n",
    "\n",
    "    # print(f'geo_data: {geo_data}')\n",
    "    # print(f'distance: {distance_data}')\n",
    "    return geo_data, distance_data"
   ]
  },
  {
   "cell_type": "markdown",
   "id": "d481240e",
   "metadata": {},
   "source": [
    "The most complex part of problem forming with VRP is route generating process. <br>\n",
    "If you generate all possible routes, you will have $(N-1)!$ routes. Which becomes heavy operation quickly. To avoid this we implement greedy route genration. This method basically pick cheapest route (nearest next location) from current location. At the beggining, we set the number of vechicles and then set the number of location that each vechicles visit before returning to the depot. <br>\n",
    "Initially, we set all possible outgoing route from the depot for the first vechcle, then go through nearest unvisited location and come back to the depot. Then, other vechicles go through nearest non-visited locations. Thus we only generate $(N-1)\\times v$ routes at the most where $v$ is the number of vechcles."
   ]
  },
  {
   "cell_type": "code",
   "execution_count": 17,
   "id": "938b6d92",
   "metadata": {},
   "outputs": [],
   "source": [
    "#find nearest location from currebt location \n",
    "def find_min_distance(distance:list[float])->int:\n",
    "    #copy the distance array \n",
    "    min_distance = min(distance)\n",
    "    min_index = np.where(distance == min_distance)[0][0]\n",
    "    # print(f'min_index: {min_index}')\n",
    "    return min_index\n",
    "\n",
    "#find unvisited nearest location \n",
    "def find_next_location(current_location:int, visited_location:list[int], distance_matrix:list[list[float]])->int:\n",
    "    #get the distance from current location to other locations\n",
    "    distance = distance_matrix[current_location].copy()\n",
    "    #set the distance of visited location to infinity\n",
    "    # print(f'distance 1: {distance}')\n",
    "    for i in visited_location:\n",
    "        distance[i] = math.inf\n",
    "    # print(f'distance 2: {distance}')\n",
    "    #find the next location\n",
    "    next_location = find_min_distance(distance)\n",
    "    return next_location\n",
    "\n",
    "#this is delta that is part of mathmatical formula (based on the definiton on the paper)\n",
    "def get_delta(route:list[int], n:int)->list:\n",
    "    delta = np.zeros(n)\n",
    "    for i in route:\n",
    "        delta[i] = int(1)\n",
    "    \n",
    "    return list(delta)\n",
    "\n",
    "\n",
    "def greedy_route_generating(points:list[str], v:int):\n",
    "    #get the latitude and longitude and distance matrix\n",
    "    geo_data, distance_data = geo_information(points)\n",
    "    distance_matrix = distance_data['d']\n",
    "\n",
    "    #set the maximum number of location that each vechicle can visit\n",
    "    p = math.ceil((len(points)-1) / v)\n",
    "\n",
    "    #initialized visited location \n",
    "    visited_location = []\n",
    "    #initialize necessary dict and lists\n",
    "    routes = {\n",
    "        'route': [],\n",
    "        'c': [], \n",
    "        'd': [], \n",
    "        'n': []\n",
    "    }\n",
    "    visited_location = []   \n",
    "    initial_route = []\n",
    "    #generate possible routes\n",
    "    for i in range(1, len(points)):\n",
    "        route = [0, i]\n",
    "        initial_route.append(route) \n",
    "    # print(f'routes: {routes}')\n",
    "    # print(f'test{routes[0][-1]}')\n",
    "    # print(f'visited_location: {visited_location}')\n",
    "    #generate routes\n",
    "    for i in range(len(points)-1):\n",
    "        # visited = [0]\n",
    "        visited_location.append([0])\n",
    "        count = 0 \n",
    "        # print(f'visited_location: {visited_location}')\n",
    "        # print(f'len(visited_location[i]): {len(visited_location[i])}')\n",
    "        # print(f'len(points)-1: {len(points)-1}')\n",
    "        while len(visited_location[-1]) != len(points):\n",
    "            count += 1\n",
    "            route = [0]\n",
    "            cost = 0\n",
    "            routes['route'].append(route)\n",
    "            routes['c'].append(cost)\n",
    "            # print(f'range p {p}')\n",
    "            for j in range(p):\n",
    "                if count == 1 and j == 0:\n",
    "                    current_location = routes['route'][-1][-1]\n",
    "                    next_location = initial_route[i][-1]\n",
    "                    cost += distance_matrix[current_location][next_location]\n",
    "                    routes['route'][-1].append(next_location)\n",
    "                    visited_location[-1].append(next_location)\n",
    "                else:\n",
    "                    current_location = routes['route'][-1][-1]\n",
    "                    next_location = find_next_location(current_location, visited_location[-1], distance_matrix)\n",
    "                    cost += distance_matrix[current_location][next_location]\n",
    "                    routes['route'][-1].append(next_location)\n",
    "                    visited_location[-1].append(next_location)\n",
    "                \n",
    "            delta = get_delta(routes['route'][-1], len(points))\n",
    "            routes['d'].append(delta)\n",
    "            routes['route'][-1].append(0)\n",
    "            routes['c'][-1] = cost\n",
    "    # print(f'visited_location: {visited_location}')\n",
    "\n",
    "    return routes"
   ]
  },
  {
   "cell_type": "code",
   "execution_count": null,
   "id": "fc4a34ec",
   "metadata": {},
   "outputs": [],
   "source": []
  },
  {
   "cell_type": "markdown",
   "id": "b2df620c",
   "metadata": {},
   "source": [
    "## Solving VRP <a class='anchor' id='splvevrp'></a>"
   ]
  },
  {
   "cell_type": "markdown",
   "id": "6668458e",
   "metadata": {},
   "source": [
    "First we import necessary libraries for this part."
   ]
  },
  {
   "cell_type": "code",
   "execution_count": 18,
   "id": "4124222a",
   "metadata": {},
   "outputs": [
    {
     "name": "stderr",
     "output_type": "stream",
     "text": [
      "/var/folders/lj/d00jpvwx00d3j_pnmjtgyzfh0000gn/T/ipykernel_4341/2803861982.py:5: DeprecationWarning: ``qiskit.algorithms`` has been migrated to an independent package: https://github.com/qiskit-community/qiskit-algorithms. The ``qiskit.algorithms`` import path is deprecated as of qiskit-terra 0.25.0 and will be removed no earlier than 3 months after the release date. Please run ``pip install qiskit_algorithms`` and use ``import qiskit_algorithms`` instead.\n",
      "  from qiskit.algorithms.optimizers import COBYLA\n"
     ]
    }
   ],
   "source": [
    "import jijmodeling.transpiler as jmt\n",
    "import openjij as oj\n",
    "import matplotlib.pyplot as plt\n",
    "import warnings\n",
    "from qiskit.algorithms.optimizers import COBYLA\n",
    "import dimod\n",
    "\n"
   ]
  },
  {
   "cell_type": "markdown",
   "id": "c8068ccb",
   "metadata": {},
   "source": [
    "In this section, we actually solve VRP we defined on the previous section. <br>\n",
    "First, we solve it using OpenJij to produce correct solution. Then we try to solve using minimal encosing and compare thoses solutions. "
   ]
  },
  {
   "cell_type": "markdown",
   "id": "84e6fe07",
   "metadata": {},
   "source": [
    "We need to define some functions that are necessary to visualize solutions."
   ]
  },
  {
   "cell_type": "code",
   "execution_count": 19,
   "id": "dfbb1231",
   "metadata": {},
   "outputs": [],
   "source": [
    "def get_routs_from_index(indecies:list[int], routes:list[list[int]])->list[list[int]]:\n",
    "    optimised_routes = []\n",
    "    for i in indecies:\n",
    "        optimised_routes.append(routes['route'][i])\n",
    "    \n",
    "    return optimised_routes\n",
    "\n",
    "def plot_route(routes:list[list[int]], geo_data:dict):\n",
    "    #get the latitude and longitude and distance matrix\n",
    "    points = geo_data['points']\n",
    "    latlng_list = geo_data['latlng_list']\n",
    "\n",
    "    #set the plot so you can plot Japanese\n",
    "    plt.rcParams['font.family'] = 'Hiragino Maru Gothic Pro'\n",
    "    #plot the points\n",
    "    for i in range(len(points)):\n",
    "        plt.plot(latlng_list[i][0], latlng_list[i][1], marker='o')\n",
    "        plt.text(latlng_list[i][0], latlng_list[i][1], points[i])\n",
    "    #plot the route\n",
    "    for route in routes:\n",
    "        route_points = []\n",
    "        for i in route:\n",
    "            route_points.append(latlng_list[i])\n",
    "        route_points = np.array(route_points)\n",
    "        plt.plot(route_points[:,0], route_points[:,1], marker='o')\n",
    "\n",
    "    plt.title('ルート')\n",
    "    plt.show()\n",
    "\n",
    "    return 0\n",
    "\n",
    "from abc import ABC, abstractmethod\n",
    "from typing import List\n",
    "\n",
    "#==========================================\n",
    "#We also use some code written by 松山さん to get optimized routes\n",
    "\n",
    "class LocalSearch(ABC):\n",
    "    def __init__(self, distance_matrix: List[List[float]]):\n",
    "        self.distance_matrix = np.array(distance_matrix)\n",
    "        super().__init__()\n",
    "\n",
    "    @abstractmethod\n",
    "    def local_search(self, initial_solution: List[int]) -> List[int]:\n",
    "        raise NotImplementedError\n",
    "\n",
    "    def calculate_cost(self, solution: List[int]) -> float:\n",
    "        return (\n",
    "            np.sum(self.distance_matrix[solution[:-1], solution[1:]])\n",
    "            + self.distance_matrix[solution[-1], solution[0]]\n",
    "        )\n",
    "\n",
    "class TwoOpt(LocalSearch):\n",
    "    def local_search(self, initial_solution: List[int]) -> List[int]:\n",
    "        best_solution = initial_solution\n",
    "        improved = True\n",
    "\n",
    "        while improved:\n",
    "            improved = False\n",
    "            for i in range(1, len(best_solution) - 2):\n",
    "                for j in range(i + 1, len(best_solution)):\n",
    "                    if j - i == 1:\n",
    "                        continue  # changes nothing, skip then\n",
    "                    new_solution = best_solution[:]\n",
    "                    new_solution[i:j] = best_solution[\n",
    "                        j - 1 : i - 1 : -1\n",
    "                    ]  # this is the 2-optSwap\n",
    "                    if self.calculate_cost(new_solution) < self.calculate_cost(\n",
    "                        best_solution\n",
    "                    ):\n",
    "                        best_solution = new_solution\n",
    "                        improved = True\n",
    "        return best_solution\n",
    "    \n",
    "#==========================================\n",
    "\n",
    "\n",
    "def two_opt_for_vrp(distance_data, routes, results):\n",
    "    twoopt = TwoOpt(distance_data)\n",
    "    sol_routes = []\n",
    "    for result in results:\n",
    "        routes[result] = twoopt.local_search(initial_solution=routes[result]) \n",
    "        sol_routes.append(routes[result])\n",
    "    return sol_routes"
   ]
  },
  {
   "cell_type": "code",
   "execution_count": 23,
   "id": "705862ed",
   "metadata": {},
   "outputs": [],
   "source": [
    "def vrp_solution(result:oj.sampler.response.Response, \n",
    "                 pubo_builder:jmt.core.pubo.pubo_builder.PuboBuilder,\n",
    "                 compiled_model:jmt.core.compile.compiled_model.CompiledInstance,\n",
    "                 geo_data:dict,\n",
    "                 distan_data:dict,\n",
    "                 routes:dict):\n",
    "    \n",
    "    results = jmt.core.pubo.decode_from_openjij(result, pubo_builder, compiled_model)\n",
    "    feasibles = results.feasible()\n",
    "    print(f'feasibles: {feasibles}')\n",
    "    objectives = np.array(feasibles.evaluation.objective)\n",
    "    lowest_index = np.argmin(objectives)\n",
    "    print(f\"Lowest solution index: {lowest_index}, Lowest objective value: {objectives[lowest_index]}\")\n",
    "    nonzero_indices, nonzero_values, shape = feasibles.record.solution[\"x\"][lowest_index]\n",
    "    print(\"indices: \", nonzero_indices)\n",
    "    print(\"values: \", nonzero_values)\n",
    "\n",
    "    #get the routes from the indices\n",
    "    optimised_routes = two_opt_for_vrp(distance_data['d'], routes['route'], nonzero_indices[0])    \n",
    "    plot_route(optimised_routes, geo_data)\n",
    "\n",
    "    return nonzero_indices[0]"
   ]
  },
  {
   "cell_type": "markdown",
   "id": "953f6a6a",
   "metadata": {},
   "source": [
    "First, we define problem, formalize instance data, and compile it into QUBO."
   ]
  },
  {
   "cell_type": "code",
   "execution_count": 24,
   "id": "fc3ad050",
   "metadata": {},
   "outputs": [
    {
     "name": "stdout",
     "output_type": "stream",
     "text": [
      "<jijmodeling.problem.problem.Problem object at 0x11485edf0>\n",
      "routes: {'route': [[0, 1, 3, 0], [0, 4, 2, 0], [0, 2, 3, 0], [0, 4, 1, 0], [0, 3, 4, 0], [0, 2, 1, 0], [0, 4, 3, 0], [0, 2, 1, 0]], 'c': [0.2806286635066365, 0.19659917858048687, 0.21533349711593272, 0.2175328162858192, 0.06749027534804625, 0.2904708371295728, 0.09305716566911103, 0.2904708371295728], 'd': [[1.0, 1.0, 0.0, 1.0, 0.0], [1.0, 0.0, 1.0, 0.0, 1.0], [1.0, 0.0, 1.0, 1.0, 0.0], [1.0, 1.0, 0.0, 0.0, 1.0], [1.0, 0.0, 0.0, 1.0, 1.0], [1.0, 1.0, 1.0, 0.0, 0.0], [1.0, 0.0, 0.0, 1.0, 1.0], [1.0, 1.0, 1.0, 0.0, 0.0]], 'n': [0, 1, 2, 3, 4]}\n",
      "number of routes => 8\n"
     ]
    }
   ],
   "source": [
    "#set the warning off\n",
    "warnings.filterwarnings('ignore')\n",
    "# Define the problem\n",
    "problem = set_problem()\n",
    "#list of points, the first location is the depot\n",
    "points = ['千代田区' ,'練馬区', '品川区', '文京区', '荒川区']\n",
    "n = [index for index in range(len(points))]\n",
    "\n",
    "#get geo data \n",
    "geo_data, distance_data = geo_information(points)\n",
    "#generate routes\n",
    "routes = greedy_route_generating(points, 3)\n",
    "routes['n'] = n\n",
    "\n",
    "print(f'routes: {routes}')\n",
    "l = len(routes['route'])\n",
    "print(f'number of routes => {l}')\n",
    "# compile problem\n",
    "compiled_model = jmt.core.compile_model(problem, routes, {})\n",
    "# # Quadratic Unconstraint Binary Optimization (QUBO) model\n",
    "pubo_builder = jmt.core.pubo.transpile_to_pubo(compiled_model=compiled_model)\n",
    "# # qubo, const = pubo_builder.get_qubo_dict(multipliers = {'one-city': 0.5, 'one-time': 0.5})\n",
    "\n",
    "qubo, const = pubo_builder.get_qubo_dict(multipliers = {'one-time': 500})"
   ]
  },
  {
   "cell_type": "markdown",
   "id": "b22f6463",
   "metadata": {},
   "source": [
    "Solve with OpenJij."
   ]
  },
  {
   "cell_type": "code",
   "execution_count": 25,
   "id": "b2eaa391",
   "metadata": {},
   "outputs": [
    {
     "name": "stdout",
     "output_type": "stream",
     "text": [
      "feasibles: SampleSet(record=Record(solution={'x': [(([4, 7],), [1, 1], (8,)), (([4, 7],), [1, 1], (8,)), (([5, 6],), [1, 1], (8,)), (([5, 6],), [1, 1], (8,)), (([6, 7],), [1, 1], (8,)), (([2, 3],), [1, 1], (8,)), (([0, 1],), [1, 1], (8,)), (([0, 1],), [1, 1], (8,)), (([0, 1],), [1, 1], (8,)), (([0, 1],), [1, 1], (8,))]}, num_occurrences=[1, 1, 1, 1, 1, 1, 1, 1, 1, 1]), evaluation=Evaluation(energy=[-1998.5097770307016, -1998.3570541993024, -1998.679633361515, -1998.679633361515, -1998.3570541993024, -1998.3570541993024, -1998.679633361515, -1998.7676521470623, -1998.7676521470623, -1998.3570541993024], objective=[0.357961112477619, 0.357961112477619, 0.3835280027986838, 0.3835280027986838, 0.3835280027986838, 0.4328663134017519, 0.4772278420871234, 0.4772278420871234, 0.4772278420871234, 0.4772278420871234], constraint_violations={'one-time': [0.0, 0.0, 0.0, 0.0, 0.0, 0.0, 0.0, 0.0, 0.0, 0.0]}, penalty={}), measuring_time=MeasuringTime(solve=SolvingTime(preprocess=None, solve=None, postprocess=None), system=SystemTime(post_problem_and_instance_data=None, request_queue=None, fetch_problem_and_instance_data=None, fetch_result=None, deserialize_solution=None), total=None))\n",
      "Lowest solution index: 0, Lowest objective value: 0.357961112477619\n",
      "indices:  ([4, 7],)\n",
      "values:  [1, 1]\n"
     ]
    },
    {
     "data": {
      "image/png": "[encoded data removed]",
      "text/plain": [
       "<Figure size 640x480 with 1 Axes>"
      ]
     },
     "metadata": {},
     "output_type": "display_data"
    }
   ],
   "source": [
    "sampler = oj.SASampler()\n",
    "\n",
    "# solve problem\n",
    "# result = sampler.sample_qubo(qubo) \n",
    "result = sampler.sample_qubo(qubo, num_reads=10)\n",
    "\n",
    "#get solution\n",
    "vrp_result = vrp_solution(result, pubo_builder, compiled_model, geo_data, distance_data, routes)"
   ]
  },
  {
   "cell_type": "markdown",
   "id": "4ee670d2",
   "metadata": {},
   "source": [
    "Solve with minimal encoding"
   ]
  },
  {
   "cell_type": "code",
   "execution_count": 27,
   "id": "0e9051fc",
   "metadata": {},
   "outputs": [],
   "source": [
    "nc = len(routes['route']) #this is the number of routes\n",
    "nr = math.log2(nc)\n",
    "l = 4\n",
    "na = 1\n",
    "nq = int(nr + na)\n",
    "\n",
    "if nr.is_integer() == False:\n",
    "    print(\"The number of register qubits should be integer\")\n",
    "else: \n",
    "    nr = int(nr)"
   ]
  },
  {
   "cell_type": "markdown",
   "id": "d73c2948",
   "metadata": {},
   "source": [
    "There are some other function we have not define that are necessary for minimal encoding."
   ]
  },
  {
   "cell_type": "code",
   "execution_count": 28,
   "id": "0e9e17c0",
   "metadata": {},
   "outputs": [],
   "source": [
    "def check_symmetric(A:np.ndarray, rtol=1e-05, atol=1e-08)->bool:\n",
    "    return np.allclose(A, A.T, rtol=rtol, atol=atol)\n",
    "\n",
    "def convert_qubo_datatype(qubo:dict[tuple[int, int], float] , nc:int)->np.ndarray:\n",
    "    qubo_matrix = np.zeros((nc, nc))\n",
    "    for key, value in qubo.items():\n",
    "        qubo_matrix[key[0], key[1]] = value \n",
    "    \n",
    "    return qubo_matrix"
   ]
  },
  {
   "cell_type": "markdown",
   "id": "c8a48e89",
   "metadata": {},
   "source": [
    "We implemented minimal encoding on the OpenJij amd JijModeling.transpiler optimization pipeline. So there is a need for converting the datatype from np.array into a dimod.SampleSet"
   ]
  },
  {
   "cell_type": "code",
   "execution_count": 29,
   "id": "51ee6ec8",
   "metadata": {},
   "outputs": [],
   "source": [
    "def get_sample(final_binary:np.array, energy:np.array)->dimod.SampleSet:\n",
    "    sample = dimod.SampleSet.from_samples(\n",
    "        dimod.as_samples(final_binary), \n",
    "        'BINARY', \n",
    "        energy=energy,\n",
    "    )\n",
    "    return sample"
   ]
  },
  {
   "cell_type": "code",
   "execution_count": 31,
   "id": "c713de87",
   "metadata": {},
   "outputs": [
    {
     "name": "stdout",
     "output_type": "stream",
     "text": [
      "b is Pr(x=1)[4.464633082614925e-06, 2.8880859981427746e-05, 2.6749958143505954e-08, 8.943710494353442e-06, 0.9999922879402408, 0.9999504494169156, 6.413607315722231e-06, 2.1446006610212094e-05]\n",
      "a is Pr(x=0)[0.9999955353669174, 0.9999711191400186, 0.9999999732500419, 0.9999910562895057, 7.71205975924616e-06, 4.9550583084423394e-05, 0.9999935863926843, 0.9999785539933898]\n",
      "b is Pr(x=1)[4.3442507292932534e-20, 5.150230805319732e-20, 8.58963065530366e-21, 5.94127651406185e-23, 1.2774274520914087e-28, 0.999999999912101, 0.9999999998267552, 3.404446344256773e-24]\n",
      "a is Pr(x=0)[1.0, 1.0, 1.0, 1.0, 1.0, 8.789902139483274e-11, 1.7324475187763255e-10, 1.0]\n",
      "b is Pr(x=1)[8.891595297897806e-09, 1.0715313515575305e-07, 1.2006143483191629e-07, 1.3251236531005767e-07, 0.9999971087035071, 7.458432438548052e-10, 1.7737838288277488e-06, 0.999986966032431]\n",
      "a is Pr(x=0)[0.9999999911084047, 0.9999998928468649, 0.9999998799385652, 0.9999998674876347, 2.8912964928906604e-06, 0.9999999992541567, 0.9999982262161712, 1.3033967569020533e-05]\n",
      "b is Pr(x=1)[5.611076962098464e-13, 9.102537610892342e-08, 1.0455328746876908e-09, 8.196412611805908e-14, 3.916693467017851e-06, 0.9999812728662398, 0.9999976740330471, 4.988370943089588e-09]\n",
      "a is Pr(x=0)[0.9999999999994389, 0.9999999089746239, 0.9999999989544671, 0.9999999999999181, 0.999996083306533, 1.872713376016577e-05, 2.325966952931857e-06, 0.9999999950116291]\n",
      "b is Pr(x=1)[1.5010595777946397e-09, 1.6494807679862676e-13, 7.556349657819764e-10, 3.795226481022751e-08, 0.9999954273744788, 0.9999978811016648, 2.7319667955494975e-15, 1.0009604472430897e-10]\n",
      "a is Pr(x=0)[0.9999999984989404, 0.999999999999835, 0.999999999244365, 0.9999999620477352, 4.572625521226392e-06, 2.118898335234931e-06, 0.9999999999999972, 0.999999999899904]\n",
      "b is Pr(x=1)[2.313092446499081e-07, 3.8306948740810915e-07, 4.286980397651246e-07, 5.204880437195089e-05, 0.9999997737284415, 0.9999738891834256, 1.3860668375123893e-07, 1.164337861557113e-06]\n",
      "a is Pr(x=0)[0.9999997686907554, 0.9999996169305126, 0.9999995713019603, 0.9999479511956281, 2.262715584899766e-07, 2.6110816574442808e-05, 0.9999998613933162, 0.9999988356621384]\n",
      "b is Pr(x=1)[5.466286053411164e-06, 1.9366679414608331e-10, 1.6031304094050728e-06, 1.7036870405815597e-05, 0.0006025979707247191, 3.2508569509941486e-05, 1.7619825979893743e-05, 0.9999777256657938]\n",
      "a is Pr(x=0)[0.9999945337139466, 0.9999999998063333, 0.9999983968695906, 0.9999829631295942, 0.9993974020292753, 0.99996749143049, 0.9999823801740201, 2.2274334206207058e-05]\n",
      "b is Pr(x=1)[9.722071156930025e-09, 2.8362388960757265e-10, 2.1129992913230194e-06, 1.4263294921251579e-09, 0.9999993690237926, 0.999987377327898, 8.435700399274149e-08, 6.207258764256498e-18]\n",
      "a is Pr(x=0)[0.9999999902779289, 0.9999999997163761, 0.9999978870007087, 0.9999999985736705, 6.309762073941627e-07, 1.2622672102002852e-05, 0.9999999156429961, 1.0]\n",
      "b is Pr(x=1)[2.2114519373168447e-09, 1.86305152848168e-13, 1.9676793012967917e-08, 3.0153948401644956e-07, 0.9878981910299292, 1.634380176776351e-07, 5.3388429454297964e-08, 0.9999693469061871]\n",
      "a is Pr(x=0)[0.9999999977885481, 0.9999999999998137, 0.999999980323207, 0.999999698460516, 0.012101808970070849, 0.9999998365619823, 0.9999999466115705, 3.0653093812893495e-05]\n",
      "b is Pr(x=1)[1.390063773813814e-09, 4.444053578301799e-11, 3.942729486511756e-09, 1.3430746191407896e-07, 0.9736932536570756, 0.971719485809176, 2.354878221494982e-08, 2.60455766464319e-06]\n",
      "a is Pr(x=0)[0.9999999986099363, 0.9999999999555594, 0.9999999960572705, 0.9999998656925381, 0.026306746342924403, 0.028280514190824002, 0.9999999764512177, 0.9999973954423353]\n",
      "feasibles: SampleSet(record=Record(solution={'x': [(([5, 6],), [1, 1], (8,)), (([4, 5],), [1, 1], (8,)), (([4, 5],), [1, 1], (8,)), (([5, 6],), [1, 1], (8,)), (([4, 7],), [1, 1], (8,)), (([4, 7],), [1, 1], (8,)), (([4, 5],), [1, 1], (8,)), (([4, 5],), [1, 1], (8,)), (([4, 5],), [1, 1], (8,))]}, num_occurrences=[1, 1, 1, 1, 1, 1, 1, 1, 1]), evaluation=Evaluation(energy=[-1945.112852356488, -1998.6796316177404, -1991.2808380080648, -1991.5126833926438, -1997.9495462705477, -1967.4421170225974, -1001.8940176207292, -1993.0666609951436, -1988.5804129509859], objective=[0.3835280027986838, 0.357961112477619, 0.357961112477619, 0.3835280027986838, 0.357961112477619, 0.357961112477619, 0.357961112477619, 0.357961112477619, 0.357961112477619], constraint_violations={'one-time': [0.0, 0.0, 0.0, 0.0, 0.0, 0.0, 0.0, 0.0, 0.0]}, penalty={}), measuring_time=MeasuringTime(solve=SolvingTime(preprocess=None, solve=None, postprocess=None), system=SystemTime(post_problem_and_instance_data=None, request_queue=None, fetch_problem_and_instance_data=None, fetch_result=None, deserialize_solution=None), total=None))\n",
      "Lowest solution index: 1, Lowest objective value: 0.357961112477619\n",
      "indices:  ([4, 5],)\n",
      "values:  [1, 1]\n"
     ]
    },
    {
     "data": {
      "image/png": "[encoded data removed]",
      "text/plain": [
       "<Figure size 640x480 with 1 Axes>"
      ]
     },
     "metadata": {},
     "output_type": "display_data"
    },
    {
     "data": {
      "text/plain": [
       "[4, 5]"
      ]
     },
     "execution_count": 31,
     "metadata": {},
     "output_type": "execute_result"
    }
   ],
   "source": [
    "#minimal encoding\n",
    "A = convert_qubo_datatype(qubo, nc)\n",
    "# print(A)\n",
    "A = (A + A.T)\n",
    "for i in range(len(A)):\n",
    "    A[i][i] = A[i][i]/2\n",
    "if check_symmetric(A) == False:\n",
    "    print(\"The QUBO matrix is not symmetric\")\n",
    "\n",
    "final_binary = []\n",
    "energy = []\n",
    "for i in range(10):\n",
    "    parameters, theta = init_parameter(nq, l) \n",
    "    circuit = generate_circuit(nr, na, l, parameters)\n",
    "    progress_history = []\n",
    "\n",
    "    # # print(A)\n",
    "    func = init_func(nc, nr, na, circuit, A, progress_history)\n",
    "    n_eval = 1000\n",
    "    optimizer = COBYLA(maxiter=n_eval, disp=False, tol=0.00001)\n",
    "    # optimizer = ADAM(maxiter=n_eval)\n",
    "    result = optimizer.minimize(func, list(theta.values()))\n",
    "    energy.append(np.array(result.fun))\n",
    "    final_binary.append(get_ancilla_prob(result.x, circuit, nr))\n",
    "\n",
    "\n",
    "sample = get_sample(final_binary, energy)\n",
    "vrp_solution(sample, pubo_builder, compiled_model, geo_data,distance_data, routes)"
   ]
  },
  {
   "cell_type": "markdown",
   "id": "5eac91ec",
   "metadata": {},
   "source": [
    "Notice that on the reference (2), they use ADAM optimizor. So we have try one that implemented in Qiskit, but it resulted in 20 times expensive computationaly compare to COBLYLA which is used on the reference (1). This is mainly because that refrence (2) uses special version of ADAM. We did not try to implement that since it is out of scope from our purpose."
   ]
  },
  {
   "cell_type": "markdown",
   "id": "f855145a",
   "metadata": {},
   "source": [
    "Also, we repeat the optimization process for 10 times to get the correct solution since single run does not necessary produce the feasble solution. Also, if you increase problem size most likely you will need more runs. Obviously it will leads to increse of computation time but it is expected."
   ]
  }
 ],
 "metadata": {
  "kernelspec": {
   "display_name": "Python 3 (ipykernel)",
   "language": "python",
   "name": "python3"
  },
  "language_info": {
   "codemirror_mode": {
    "name": "ipython",
    "version": 3
   },
   "file_extension": ".py",
   "mimetype": "text/x-python",
   "name": "python",
   "nbconvert_exporter": "python",
   "pygments_lexer": "ipython3",
   "version": "3.9.6"
  }
 },
 "nbformat": 4,
 "nbformat_minor": 5
}
