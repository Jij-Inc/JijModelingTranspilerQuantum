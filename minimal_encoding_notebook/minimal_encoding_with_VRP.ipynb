{
 "cells": [
  {
   "cell_type": "markdown",
   "id": "120e9124",
   "metadata": {},
   "source": [
    "# Minimal encoding with VRP tutorials"
   ]
  },
  {
   "cell_type": "markdown",
   "id": "1a014162",
   "metadata": {},
   "source": [
    "### Contents\n",
    "* [Introduction](#introduction)\n",
    "* [Notations](#notations)\n",
    "* [Minimal Encoding scheme](#scheme)\n",
    "* [Implementation of minimal encoding](#min)\n",
    "     * [ Quantum state and ansaz](#min-1)\n",
    "     * [Cost function](#cost)\n",
    "     * [Optimisation](#opt)\n",
    "* [VRP](#vrp)\n",
    "* [Solving VRP](#solvevrp)"
   ]
  },
  {
   "cell_type": "markdown",
   "id": "e974a9d0",
   "metadata": {},
   "source": [
    "$$ \\newcommand{\\ket}[1]{\\left|{#1}\\right\\rangle}\n",
    "\\newcommand{\\bra}[1]{\\left\\langle{#1}\\right|} $$\n",
    "$$\\newcommand{\\braket}[2]{\\left\\langle{#1}\\middle|{#2}\\right\\rangle}$$"
   ]
  },
  {
   "cell_type": "markdown",
   "id": "eaa71036",
   "metadata": {},
   "source": [
    "## Introduction <a class='anchor' id='introduction'></a>"
   ]
  },
  {
   "cell_type": "markdown",
   "id": "dcdff076",
   "metadata": {},
   "source": [
    "This tutorials introduce you to an implementation of encoding scheme from the following papers : <br>\n",
    "* [Qubit-efficient encoding schemes for binary optimisation problems](https://quantum-journal.org/papers/q-2021-05-04-454/)　(21 Apr 2021)\n",
    "* [Qubit efficient quantum algorithms for the vehicle routing problem on quantum computers of the NISQ era](https://arxiv.org/abs/2306.08507)　(14 Jun 2023)"
   ]
  },
  {
   "cell_type": "markdown",
   "id": "a5c0ed9e",
   "metadata": {},
   "source": [
    "The main focus of this tutorial is to expload a possibility of minimal encoding which is a encoding scheme for QUBO problem. In these days there exists various encoding scheme for different problems (Machine learning, numerical optimization etc) and main purpose of these schemes are to encode classical problem into a quantum problem so it can be solve using quantum problem. Main motivation behind this is that there exists a possibility of quantum computing being more efficient than classical computing. <br>\n",
    "\n",
    "However, current quantum devices (NISQ) known to have two main problems which are noise and limitted number qubits. \n",
    "To deal with these problems from software side, there are researches on error correction and error mitigation to deal with noise and on different encdoing methods to deal with limitation of number of qubits availble. <br> \n",
    "Minimal encoding belong to the second case. Specifically, to encode QUBO problem into quantum."
   ]
  },
  {
   "cell_type": "markdown",
   "id": "f9d9a5c9",
   "metadata": {},
   "source": [
    "For instance QUBO can be solve using QAOA. In this case, QUBO will be encode into Ising Hamiltonian. <br> \n",
    "In this case, it requires the same number of qubits as classical variable. So if we have 10 variables in QUBO model, then we need 10 qubits in order to encode QUBO into Ising Hamiltonian. You may realise that with real world problems, this method we will reach the limit of current quantum device pretty quickly. <br> \n",
    "This also apply to other problems, as well.<br>"
   ]
  },
  {
   "cell_type": "markdown",
   "id": "9db79287",
   "metadata": {},
   "source": [
    "This tutorial introduce a minimal encoding scheme which aim to over come this limitation cause by limited number of qubits availble on current quantum divices."
   ]
  },
  {
   "cell_type": "markdown",
   "id": "4ae86ac0",
   "metadata": {},
   "source": [
    "## Notations"
   ]
  },
  {
   "cell_type": "markdown",
   "id": "4d42795e",
   "metadata": {},
   "source": [
    "These are notations used in this tutorials."
   ]
  },
  {
   "cell_type": "markdown",
   "id": "8e90d49b",
   "metadata": {},
   "source": [
    "* $n_c$ : classical bit\n",
    "* $n_q$ : quantum bit\n",
    "* $n_r$ : quantum register bit\n",
    "* $n_a$ : quantum ancila bit\n",
    "* $ l $ : number of layer for quantum circuit (ansaz)\n"
   ]
  },
  {
   "cell_type": "markdown",
   "id": "06a64741",
   "metadata": {},
   "source": [
    "## Minimal Encoding scheme <a class='anchor' id='scheme'></a>"
   ]
  },
  {
   "cell_type": "markdown",
   "id": "fefcfce0",
   "metadata": {},
   "source": [
    "With this minimal encoding scheme, the number of qubits require for classical bits is reduced. Specifically, it requires $\\log_2 n_c$ quantum register bits and 1 quantum ancila bits. Therefore, the number of qubits it use is $$ n_q = \\log_2 n_c + 1 $$"
   ]
  },
  {
   "cell_type": "markdown",
   "id": "e3e3f2f4",
   "metadata": {},
   "source": [
    "We will discuss only mathmatical formulas in this section. All implementations will be on the next section."
   ]
  },
  {
   "cell_type": "markdown",
   "id": "d65d3fd0",
   "metadata": {},
   "source": [
    "To encode QUBO problem, we use the following parameterised quantum state\n",
    "$$ \\tag{1} \\ket{\\psi_1 (\\vec{\\theta})} = \\sum^{n_c}_{i=1} \\beta_i (\\vec{\\theta})[a_i(\\vec{\\theta}) \\ket{0}_a + b_i (\\vec{\\theta}) \\ket{1}_a] \\otimes \\ket{\\phi_i}_r $$"
   ]
  },
  {
   "cell_type": "markdown",
   "id": "528df575",
   "metadata": {},
   "source": [
    "where\n",
    "$$\\{ \\ket{\\phi_i}_r \\} \\text{ : computational basis of regsister qubits} $$\n",
    "\n",
    "$$\\{ \\ket{0}_a , \\ket{1}_a \\} \\text{ : computational basis of ancilla qubit} $$"
   ]
  },
  {
   "cell_type": "markdown",
   "id": "9e3149b3",
   "metadata": {},
   "source": [
    "To define one-to-one correspondence between each of the $n_c$ classical variables $x_i$ in $\\vec{x}$ and a unique basis state $\\ket{\\phi_i}_r$, the probability of the $i^{th}$ classical variable to have 0 or 1 can be determin as follow : \n",
    "$$ Pr(x_i = 1) = |b_i|^2  $$\n",
    "$$ Pr(x_i = 0) = 1- |b_i|^2 = |a_i|^2 $$"
   ]
  },
  {
   "cell_type": "markdown",
   "id": "e4257368",
   "metadata": {},
   "source": [
    "Additionally,  $\\beta_i(\\vec{\\theta})$ capture the likelihood of measuring each register state $\\ket{\\phi_i}$ and corresponding ancilla qubit"
   ]
  },
  {
   "cell_type": "markdown",
   "id": "3371c67c",
   "metadata": {},
   "source": [
    "For example, to encoding the probability distribution over all solutions $\\vec{x}$ of dimentions $n_c = 4$ which requires $n_r = 2$, mapping will be look like \n",
    "$$ \\ket{\\phi_1}_r = \\ket{00}_r, \\ket{\\phi_2}_r = \\ket{01}_r, \\ket{\\phi_3}_r = \\ket{10}_r,\\ket{\\phi_4}_r = \\ket{11}_r $$ and if $ \\vec{x} = (1,0,0,1) $\n",
    "then we have \n",
    "$$\\ket{\\psi_1} = (\\ket{1}_a\\ket{00}_r+\\ket{0}_a\\ket{01}_r + \\ket{0}_a\\ket{10}_r + \\ket{1}_a\\ket{11}_r)/2 $$"
   ]
  },
  {
   "cell_type": "markdown",
   "id": "8a6d1536",
   "metadata": {},
   "source": [
    "*This scheme can encode only distribution functions of statistically independent classical variables, which is a limitation of minimal encoding"
   ]
  },
  {
   "cell_type": "markdown",
   "id": "f3bae11e",
   "metadata": {},
   "source": [
    "As with standard VQAs, we define cost function as follow : \n",
    "$$\\tag{2} C_1(\\vec{\\theta}) = \\sum_{i,j=1}^{n_c} A_{ij} \\frac{\\langle \\hat{P_i^1}\\rangle_{\\vec{\\theta}} \\langle \\hat{P_i^j}\\rangle_{\\vec{\\theta}}}{\\langle \\hat{P_i}\\rangle_{\\vec{\\theta}}\\langle \\hat{P_j}\\rangle_{\\vec{\\theta}}}(1-\\delta_{ij}) + \\sum_{i=1}^{n_c} A_{ii} \\frac{\\langle \\hat{P}^1_i \\rangle_{\\vec{\\theta}}}{\\langle \\hat{P}_i \\rangle_{\\vec{\\theta}}}$$"
   ]
  },
  {
   "cell_type": "markdown",
   "id": "9cda1e42",
   "metadata": {},
   "source": [
    "where : \n",
    "$$ \\hat{P}_i = \\ket{\\phi_i}\\bra{\\phi_i}_r \\text{ : projectors over registers, independent of the ancilla state }$$\n",
    "$$ \\hat{P}^1_i = \\ket{1}\\bra{1}_a \\otimes \\hat{P}_i \\text{ : projectors over registers with ancilla being }\\ket{1}_a$$"
   ]
  },
  {
   "cell_type": "markdown",
   "id": "f37e95b2",
   "metadata": {},
   "source": [
    "then, expectation values are expresses as follow : \n",
    "$$ \\langle \\hat{P}_i \\rangle_{\\vec{\\theta}} = \\bra{\\psi_1 (\\vec{\\theta})}\\hat{P}_i \\ket{\\psi_1 (\\vec{\\theta})} $$\n",
    "given that \n",
    "$$ b_i(\\vec{\\theta}) = \\langle \\hat{P}_i^1 \\rangle_{\\vec{\\theta}} / \\langle \\hat{P}_i \\rangle_{\\vec{\\theta}} $$\n",
    "For a detailed derivation of the cost function, please check the appendix of the paper."
   ]
  },
  {
   "cell_type": "markdown",
   "id": "6734e9cd",
   "metadata": {},
   "source": [
    "This cost function is to minimise the parameters $ \\vec{\\theta} $. Global minimum of the cost function is the exact solution to minimize QUBO."
   ]
  },
  {
   "cell_type": "markdown",
   "id": "bc719ff3",
   "metadata": {},
   "source": [
    "The highly entangled quantum state that minimize (6) : $\\ket{\\psi} = \\sum_i \\beta_i \\ket{\\sigma_i}_a \\otimes \\ket{\\phi_i}$ with $\\sigma = \\{ 0,1 \\}$ and corresponds unambiguously to the exact solution $\\vec{x} = [\\sigma_1, .... , \\sigma_{n_c}]$ that minimize QUBO define by $A$. \n",
    "\n",
    "$C_1 (\\vec{\\theta})$ is only depends on the set of norm $\\{ |b_i|^2 \\}$, so measurements on computational basis is sufficient for estimation. <br>\n"
   ]
  },
  {
   "cell_type": "markdown",
   "id": "45f2b8de",
   "metadata": {},
   "source": [
    "The cost function cannot be reduce to a linear function of expectation values. That is why QUBO model of this encoding scheme cannot be describede with a suitable Hamiltonian. It means that we cannot use standfard Quantum optimization methods such as QAOA or VQA. "
   ]
  },
  {
   "cell_type": "markdown",
   "id": "f4650f67",
   "metadata": {},
   "source": [
    "So, we follow the following optimization procedure : \n",
    "1. Start with random starting point $\\theta_{init}$.\n",
    "2. Measure the quantum state in computation basis ($\\{ 0, 1 \\}$)\n",
    "3. Feed result to classical optimizer which update parameter $\\theta_{new}$\n",
    "4. After the function is minimzed, with the final quantum state $\\ket{\\psi(\\vec{\\theta}_{opt})}$, a set of solutions $\\{ \\vec{x} \\}$ with value $C_x = xAx$ are obtained by sampleing each variable independently follwing $ Pr(x_i = 1) = |b_i|^2 $"
   ]
  },
  {
   "cell_type": "markdown",
   "id": "8da64697",
   "metadata": {},
   "source": [
    "## Implementation of minimal encoding <a class='anchor' id='min'></a>"
   ]
  },
  {
   "cell_type": "markdown",
   "id": "b2aa0da0",
   "metadata": {},
   "source": [
    "In this section, we will see how to implement each part of minimal encoding with Python. \n",
    "1. Quantum state and ansaz (parameterised quantum circuit) \n",
    "2. Cost function \n",
    "3. Optimization procedure"
   ]
  },
  {
   "cell_type": "markdown",
   "id": "f0e0713d",
   "metadata": {},
   "source": [
    "### Quantum state and ansaz <a class='anchor' id='min-1'></a>"
   ]
  },
  {
   "cell_type": "markdown",
   "id": "3c09d386",
   "metadata": {},
   "source": [
    "First, we import all necessary libraries."
   ]
  },
  {
   "cell_type": "code",
   "execution_count": 24,
   "id": "ad462d55",
   "metadata": {},
   "outputs": [],
   "source": [
    "import qiskit as qk\n",
    "from qiskit import QuantumRegister, AncillaRegister , QuantumCircuit\n",
    "from qiskit.circuit import  ParameterVector\n",
    "\n",
    "from math import pi\n",
    "import numpy as np"
   ]
  },
  {
   "cell_type": "markdown",
   "id": "890c8390",
   "metadata": {},
   "source": [
    "The initial quantum state (1) is produced by applying parameterized unitary evolution to initial product state $\\ket{\\psi_0}$ which can be express as follow : \n",
    "\n",
    "$$ \\ket{\\psi_1(\\vec{\\theta})} = \\hat{U_1}(\\vec{\\theta})\\ket{\\psi_0} $$ "
   ]
  },
  {
   "cell_type": "markdown",
   "id": "2597302b",
   "metadata": {},
   "source": [
    "This can be express as hardware efficient quantum circuit, and a single layer of this circuit is ... "
   ]
  },
  {
   "cell_type": "code",
   "execution_count": 25,
   "id": "c9cc2e9d",
   "metadata": {},
   "outputs": [
    {
     "data": {
      "image/png": "[encoded data removed]",
      "text/plain": [
       "<Figure size 621.941x367.889 with 1 Axes>"
      ]
     },
     "execution_count": 25,
     "metadata": {},
     "output_type": "execute_result"
    }
   ],
   "source": [
    "qreg_q = QuantumRegister(3, 'q')\n",
    "areg_a = AncillaRegister(1, 'a')\n",
    "\n",
    "circuit = QuantumCircuit(areg_a, qreg_q)\n",
    "circuit.barrier()\n",
    "circuit.cx(areg_a[0], qreg_q[0])\n",
    "circuit.cx(qreg_q[0], qreg_q[1])\n",
    "circuit.ry(pi / 2, areg_a[0])\n",
    "circuit.cx(qreg_q[1], qreg_q[2])\n",
    "circuit.ry(pi / 2, qreg_q[0])\n",
    "circuit.ry(pi / 2, qreg_q[1])\n",
    "circuit.ry(pi / 2, qreg_q[2])\n",
    "circuit.barrier()\n",
    "\n",
    "\n",
    "circuit.draw(output='mpl')"
   ]
  },
  {
   "cell_type": "markdown",
   "id": "68831279",
   "metadata": {},
   "source": [
    "There is no specific number of layer specified for this encoding scheme, so you can set it to any number. However, if you increase the number of layer, it increases the number variables thus it increase the number of computations for every iteration of optimization. 4 is good number of layer to start with. "
   ]
  },
  {
   "cell_type": "markdown",
   "id": "dfba32f5",
   "metadata": {},
   "source": [
    "To construct the ansaz circuit, first we need to define the number of qubits ($n_r + n_a$) which is based on the problem and the number of layer. "
   ]
  },
  {
   "cell_type": "code",
   "execution_count": 26,
   "id": "ad9161b6",
   "metadata": {},
   "outputs": [],
   "source": [
    "#example\n",
    "nr = 3\n",
    "na = 1\n",
    "nq = 4\n",
    "l = 4"
   ]
  },
  {
   "cell_type": "markdown",
   "id": "16b44d58",
   "metadata": {},
   "source": [
    "Then we generate parameters with random numbers."
   ]
  },
  {
   "cell_type": "code",
   "execution_count": 27,
   "id": "c4228e71",
   "metadata": {},
   "outputs": [],
   "source": [
    "def init_parameter(nq:int , l:int):\n",
    "    #initialize a parameters\n",
    "    parameters = ParameterVector('θ', nq*l)\n",
    "    #create a dictionary of parameters with random values and return it\n",
    "    theta =  {parameter: np.random.random() for parameter in parameters}\n",
    "    return parameters, theta"
   ]
  },
  {
   "cell_type": "markdown",
   "id": "f225f2c3",
   "metadata": {},
   "source": [
    "We now generate a parameterized circuit (ansaz). Do not forget to apply Hadmard gate as a first step before adding layers."
   ]
  },
  {
   "cell_type": "code",
   "execution_count": 28,
   "id": "41050783",
   "metadata": {},
   "outputs": [],
   "source": [
    "def generate_circuit(nr:int, na:int, l:int, parameters:np.array)->qk.circuit.quantumcircuit.QuantumCircuit:\n",
    "    #define number of qubits\n",
    "    nq = nr + na\n",
    "    qreg_q = QuantumRegister(nr, 'q')\n",
    "    areg_a = AncillaRegister(na, 'a')\n",
    "    circuit = QuantumCircuit(areg_a, qreg_q)\n",
    "\n",
    "    #add H gate for each qubit\n",
    "    circuit.h(areg_a[0])\n",
    "    for i in range(0,nr):\n",
    "        circuit.h(qreg_q[i])\n",
    "    circuit.barrier()\n",
    "  \n",
    "    #add layers which consist of CNOT and Ry gate\n",
    "    for j in range(0,l):\n",
    "        #CNOT\n",
    "        # circuit.cx(qreg_q[0],areg_a[0])\n",
    "        circuit.cx(areg_a[0],qreg_q[0])\n",
    "        for i in range(nr):\n",
    "            if i != 0:\n",
    "                # circuit.cx(qreg_q[i],qreg_q[i-1]) \n",
    "                circuit.cx(qreg_q[i-1],qreg_q[i]) \n",
    "\n",
    "        #Ry\n",
    "        for i in range(nq):\n",
    "            if i == 0:\n",
    "                circuit.ry(parameters[nq*j+i], areg_a[i])\n",
    "            else:\n",
    "                circuit.ry(parameters[nq*j+i], qreg_q[i-1])  \n",
    "        circuit.barrier()\n",
    "    return circuit"
   ]
  },
  {
   "cell_type": "code",
   "execution_count": 30,
   "id": "a6fd58f0",
   "metadata": {},
   "outputs": [
    {
     "data": {
      "image/png": "[encoded data removed]",
      "text/plain": [
       "<Figure size 1959.72x367.889 with 1 Axes>"
      ]
     },
     "execution_count": 30,
     "metadata": {},
     "output_type": "execute_result"
    }
   ],
   "source": [
    "parameters, theta = init_parameter(nq, l)\n",
    "circuit = generate_circuit(nr, na, l, parameters)\n",
    "circuit.draw(output='mpl')"
   ]
  },
  {
   "cell_type": "markdown",
   "id": "98150c20",
   "metadata": {},
   "source": [
    "### Cost function <a class='anchor' id='cost'></a>"
   ]
  },
  {
   "cell_type": "markdown",
   "id": "7bc1e8a0",
   "metadata": {},
   "source": [
    "Recall the cost function : \n",
    "$$\\tag{2} C_1(\\vec{\\theta}) = \\sum_{i,j=1}^{n_c} A_{ij} \\frac{\\langle \\hat{P_i^1}\\rangle_{\\vec{\\theta}} \\langle \\hat{P_i^j}\\rangle_{\\vec{\\theta}}}{\\langle \\hat{P_i}\\rangle_{\\vec{\\theta}}\\langle \\hat{P_j}\\rangle_{\\vec{\\theta}}}(1-\\delta_{ij}) + \\sum_{i=1}^{n_c} A_{ii} \\frac{\\langle \\hat{P}^1_i \\rangle_{\\vec{\\theta}}}{\\langle \\hat{P}_i \\rangle_{\\vec{\\theta}}}$$"
   ]
  },
  {
   "cell_type": "markdown",
   "id": "bd7237c2",
   "metadata": {},
   "source": [
    "Summation can be express using nested for loop, and setting each expectation values as $P$ and $P^1$ we can easily write a function as follow : "
   ]
  },
  {
   "cell_type": "code",
   "execution_count": 32,
   "id": "6fbe03c7",
   "metadata": {},
   "outputs": [],
   "source": [
    "def init_cost_function(A:np.ndarray, nc:int):\n",
    "    #define cost function\n",
    "    def cost_function(P1:np.array, P:np.array)->float:\n",
    "        # first sum of cost function \n",
    "        first_sum = 0\n",
    "        for i in range(nc):\n",
    "            for j in range(nc):\n",
    "                if i != j:\n",
    "                    # first_sum += A[i][j]*(P1[i]*P1[j]/P[i]*P[j])\n",
    "                    first_sum += A[i][j]*(P1[i]/P[i])*(P1[j]/P[j])\n",
    "                # else:\n",
    "                #     first_sum += A[i][i]*(P1[i]/P[i])\n",
    "        # second sum of cost function \n",
    "        second_sum = 0\n",
    "        for i in range(nc):\n",
    "            second_sum += A[i][i]*(P1[i]/P[i])\n",
    "\n",
    "        result = first_sum + second_sum\n",
    "        return  result\n",
    "    \n",
    "    return cost_function"
   ]
  },
  {
   "cell_type": "markdown",
   "id": "417ab3b6",
   "metadata": {},
   "source": [
    "Where $A$ is a real symetric matrix from QUBO. <br> \n",
    "We define function inside another function just so we don't have to pass $A$ every time we compute cost function."
   ]
  },
  {
   "cell_type": "markdown",
   "id": "53ec08e1",
   "metadata": {},
   "source": [
    "We talk about how to compute expectation value on the next section."
   ]
  },
  {
   "cell_type": "markdown",
   "id": "0a927476",
   "metadata": {},
   "source": [
    "### Optimisation <a class='anchor' id='opt'></a>"
   ]
  },
  {
   "cell_type": "markdown",
   "id": "9664565b",
   "metadata": {},
   "source": []
  },
  {
   "cell_type": "code",
   "execution_count": null,
   "id": "af1f98c4",
   "metadata": {},
   "outputs": [],
   "source": []
  }
 ],
 "metadata": {
  "kernelspec": {
   "display_name": "Python 3 (ipykernel)",
   "language": "python",
   "name": "python3"
  },
  "language_info": {
   "codemirror_mode": {
    "name": "ipython",
    "version": 3
   },
   "file_extension": ".py",
   "mimetype": "text/x-python",
   "name": "python",
   "nbconvert_exporter": "python",
   "pygments_lexer": "ipython3",
   "version": "3.9.6"
  }
 },
 "nbformat": 4,
 "nbformat_minor": 5
}
