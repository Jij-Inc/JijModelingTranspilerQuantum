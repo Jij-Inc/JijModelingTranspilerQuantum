{
 "cells": [
  {
   "cell_type": "code",
   "execution_count": 1,
   "metadata": {},
   "outputs": [],
   "source": [
    "import qiskit as qk\n",
    "import jijmodeling as jm\n",
    "import jijmodeling.transpiler as jmt\n",
    "from jijtranspiler_qiskit.qaoa import transpile_to_qaoa_ansatz"
   ]
  },
  {
   "cell_type": "code",
   "execution_count": 2,
   "metadata": {},
   "outputs": [
    {
     "name": "stderr",
     "output_type": "stream",
     "text": [
      "/home/yuyamashiro/.cache/pypoetry/virtualenvs/jijmodelingtranspiler-qiskit-x6usflVz-py3.10/lib/python3.10/site-packages/jijmodeling/utils/deprecated.py:8: FutureWarning: with_multiplier is deprecated. This optional argument will be removed in the next version.\n",
      "  warnings.warn(f\"{arg_name} is deprecated. \" + additional_msg, FutureWarning)\n",
      "/home/yuyamashiro/.cache/pypoetry/virtualenvs/jijmodelingtranspiler-qiskit-x6usflVz-py3.10/lib/python3.10/site-packages/jijmodeling/utils/deprecated.py:8: FutureWarning: with_penalty is deprecated. This optional argument will be removed in the next version.\n",
      "  warnings.warn(f\"{arg_name} is deprecated. \" + additional_msg, FutureWarning)\n",
      "/home/yuyamashiro/.cache/pypoetry/virtualenvs/jijmodelingtranspiler-qiskit-x6usflVz-py3.10/lib/python3.10/site-packages/jijmodeling/utils/deprecated.py:8: FutureWarning: auto_qubo is deprecated. This optional argument will be removed in the next version.\n",
      "  warnings.warn(f\"{arg_name} is deprecated. \" + additional_msg, FutureWarning)\n"
     ]
    }
   ],
   "source": [
    "n = jm.Placeholder(\"n\")\n",
    "x = jm.Binary(\"x\", shape=n)\n",
    "i = jm.Element(\"i\", n)\n",
    "problem = jm.Problem(\"sample\")\n",
    "# problem += jm.Sum(i, 0.5*x[i])\n",
    "problem += jm.Constraint(\"onehot\", jm.Sum(i, x[i]) == 1)\n",
    "\n",
    "compiled_instance = jmt.core.compile_model(problem, {\"n\": 3})\n",
    "qaoa_builder = transpile_to_qaoa_ansatz(compiled_instance)\n",
    "\n",
    "qaoa_ansatz, cost_func, constant = qaoa_builder.get_qaoa_ansatz(p=1)\n",
    "\n",
    "qaoa_ansatz.measure_all()"
   ]
  },
  {
   "cell_type": "code",
   "execution_count": 9,
   "metadata": {},
   "outputs": [
    {
     "data": {
      "image/png": "[encoded data removed]",
      "text/plain": [
       "<Figure size 1500.11x367.889 with 1 Axes>"
      ]
     },
     "execution_count": 9,
     "metadata": {},
     "output_type": "execute_result"
    }
   ],
   "source": [
    "qaoa_ansatz.decompose().draw(\"mpl\")"
   ]
  },
  {
   "cell_type": "code",
   "execution_count": 4,
   "metadata": {},
   "outputs": [
    {
     "data": {
      "text/plain": [
       "SparsePauliOp(['IZI', 'ZII', 'IIZ', 'ZZI', 'ZIZ', 'IZZ'],\n",
       "              coeffs=[0.5+0.j, 0.5+0.j, 0.5+0.j, 0.5+0.j, 0.5+0.j, 0.5+0.j])"
      ]
     },
     "execution_count": 4,
     "metadata": {},
     "output_type": "execute_result"
    }
   ],
   "source": [
    "cost_func"
   ]
  },
  {
   "cell_type": "code",
   "execution_count": 5,
   "metadata": {},
   "outputs": [],
   "source": [
    "from qiskit.primitives import Estimator, Sampler"
   ]
  },
  {
   "cell_type": "code",
   "execution_count": 6,
   "metadata": {},
   "outputs": [
    {
     "name": "stdout",
     "output_type": "stream",
     "text": [
      "[{0: 0.2319118373116069, 1: 0.209967666027203, 2: 0.2099676660272031, 3: 0.0230209672605393, 4: 0.209967666027203, 5: 0.0230209672605393, 6: 0.0230209672605393, 7: 0.0691222628251652}]\n"
     ]
    }
   ],
   "source": [
    "import numpy as np\n",
    "param_values = [1.0, 0.6]\n",
    "sampler = Sampler()\n",
    "job = sampler.run(qaoa_ansatz, param_values)\n",
    "result = job.result().quasi_dists\n",
    "print(result)"
   ]
  },
  {
   "cell_type": "code",
   "execution_count": 7,
   "metadata": {},
   "outputs": [],
   "source": [
    "decoded_results = qaoa_builder.decode_from_quasi_dist(result[0])"
   ]
  },
  {
   "cell_type": "code",
   "execution_count": 8,
   "metadata": {},
   "outputs": [
    {
     "data": {
      "text/plain": [
       "SampleSet(record=Record(solution={'x': [(([2],), [1], (3,)), (([1],), [1], (3,)), (([0],), [1], (3,))]}, num_occurrences=[20, 20, 20]), evaluation=Evaluation(energy=None, objective=[0.0, 0.0, 0.0], constraint_violations={'onehot': [0.0, 0.0, 0.0]}, penalty={}), measuring_time=MeasuringTime(solve=SolvingTime(preprocess=None, solve=None, postprocess=None), system=SystemTime(post_problem_and_instance_data=None, request_queue=None, fetch_problem_and_instance_data=None, fetch_result=None, deserialize_solution=None), total=None))"
      ]
     },
     "execution_count": 8,
     "metadata": {},
     "output_type": "execute_result"
    }
   ],
   "source": []
  },
  {
   "attachments": {},
   "cell_type": "markdown",
   "metadata": {},
   "source": [
    "## QRAC"
   ]
  },
  {
   "cell_type": "code",
   "execution_count": 4,
   "metadata": {},
   "outputs": [],
   "source": [
    "import typing as typ\n",
    "\n",
    "def qubo_greedy_coloring(\n",
    "    qubo: dict[tuple[int, int], float],\n",
    "    max_color_group_size: int,\n",
    "    init_coloring: typ.Optional[dict[int, int]] = None,\n",
    ")->tuple[dict[int, int], dict[int, list[int]]]:\n",
    "    coloring = {}\n",
    "    if init_coloring:\n",
    "        coloring.update(init_coloring)\n",
    "    \n",
    "    max_color = max(coloring.values()) if coloring else -1\n",
    "\n",
    "    adj_matrix: dict[int, list[int]] = {}\n",
    "    for i, j in qubo.keys():\n",
    "        if i == j:\n",
    "            continue\n",
    "        if i not in adj_matrix:\n",
    "            adj_matrix[i] = []\n",
    "        if j not in adj_matrix:\n",
    "            adj_matrix[j] = []\n",
    "        adj_matrix[i].append(j)\n",
    "        adj_matrix[j].append(i)\n",
    "    \n",
    "    color_group: dict[int, list[int]] = {}\n",
    "    for index, color in coloring.items():\n",
    "        if color not in coloring:\n",
    "            color_group[color] = []\n",
    "        color_group[color].append(index)\n",
    "\n",
    "    for i, neigborhoors in adj_matrix.items():\n",
    "        if i in coloring:\n",
    "            continue\n",
    "\n",
    "        neighbor_colors = [coloring[k] for k in neigborhoors if k in coloring]\n",
    "\n",
    "        done_coloring = False\n",
    "        for color in range(max_color+1):\n",
    "            if color not in color_group or color not in neighbor_colors:\n",
    "                if color not in color_group or max_color_group_size > len(color_group[color]):\n",
    "                    coloring[i] = color\n",
    "                    done_coloring = True\n",
    "                    if color not in color_group:\n",
    "                        color_group[color] = []\n",
    "                    color_group[color].append(i)\n",
    "                    break\n",
    "        if not done_coloring:\n",
    "            coloring[i] = max_color + 1\n",
    "            color_group[max_color + 1] = [i]\n",
    "            max_color += 1\n",
    "            \n",
    "    return coloring, color_group "
   ]
  },
  {
   "cell_type": "code",
   "execution_count": 5,
   "metadata": {},
   "outputs": [
    {
     "data": {
      "text/plain": [
       "({0: 0, 1: 1, 2: 2, 3: 0}, {0: [0, 3], 1: [1], 2: [2]})"
      ]
     },
     "execution_count": 5,
     "metadata": {},
     "output_type": "execute_result"
    }
   ],
   "source": [
    "qubo = {(0, 1): -1.0, (1, 1): 1.0, (1, 2): -0.1, (2, 0): 1, (2, 3): 1}\n",
    "coloring, color_group = qubo_greedy_coloring(qubo, 2)\n",
    "coloring, color_group"
   ]
  },
  {
   "cell_type": "code",
   "execution_count": 17,
   "metadata": {},
   "outputs": [
    {
     "data": {
      "text/plain": [
       "{0: (0, <Pauli.Z: 3>),\n",
       " 3: (0, <Pauli.X: 1>),\n",
       " 1: (1, <Pauli.Z: 3>),\n",
       " 2: (2, <Pauli.Z: 3>)}"
      ]
     },
     "execution_count": 17,
     "metadata": {},
     "output_type": "execute_result"
    }
   ],
   "source": [
    "import enum\n",
    "class Pauli(enum.Enum):\n",
    "    X = enum.auto()\n",
    "    Y = enum.auto()\n",
    "    Z = enum.auto()\n",
    "\n",
    "def color_group_to_qrac31_encode(color_group: dict[int, list[int]]):\n",
    "    qrac31 = {}\n",
    "    pauli_ope = [Pauli.Z, Pauli.X, Pauli.Y]\n",
    "    for color, group in color_group.items():\n",
    "        for ope_idx, bit_index in enumerate(group):\n",
    "            qrac31[bit_index] = (color, pauli_ope[ope_idx])\n",
    "    return qrac31\n",
    "\n",
    "color_guroup = color_group_to_qrac31_encode(color_group)\n",
    "color_guroup"
   ]
  },
  {
   "cell_type": "code",
   "execution_count": 18,
   "metadata": {},
   "outputs": [],
   "source": [
    "import numpy as np\n",
    "import qiskit.quantum_info as qk_ope\n",
    "from jijtranspiler_qiskit.ising_qubo.ising_qubo import qubo_to_ising\n",
    "\n",
    "\n",
    "def qrac31_encode(qubo: dict[tuple[int, int], float], color_group: dict[int, list[int]]):\n",
    "    ising = qubo_to_ising(qubo)\n",
    "\n",
    "    encoded_ope = color_group_to_qrac31_encode(color_group)\n",
    "\n",
    "    pauli_terms: list[qk_ope.SparsePauliOp] = []\n",
    "\n",
    "    offset = ising.constant\n",
    "    n_qubit = len(color_group)\n",
    "    zero = np.zeros(n_qubit, dtype=bool)\n",
    "\n",
    "    operator_parity = {Pauli.X: (False, True), Pauli.Y: (True, False), Pauli.Z: (True, False)}\n",
    "\n",
    "    # convert linear parts of the objective function into Hamiltonian.\n",
    "    for idx, coef in ising.linear.items():\n",
    "        if coef == 0.0:\n",
    "            continue\n",
    " \n",
    "        weight = coef\n",
    "        color, idx_pauli = encoded_ope[idx]\n",
    "        z_parity, x_parity = operator_parity[idx_pauli]\n",
    "        if z_parity:\n",
    "            z_p = zero.copy()\n",
    "            z_p[color] = True\n",
    "        else:\n",
    "            z_p = zero\n",
    "\n",
    "        if x_parity:\n",
    "            x_p = zero.copy()\n",
    "            x_p[color] = True\n",
    "        else:\n",
    "            x_p = zero\n",
    "\n",
    "        pauli_terms.append(qk_ope.SparsePauliOp(qk_ope.Pauli((z_p, x_p)), weight))\n",
    "        offset += weight\n",
    "\n",
    "    # create Pauli terms\n",
    "    for (i, j), coeff in ising.quad.items():\n",
    "        if coeff == 0.0:\n",
    "            continue\n",
    "\n",
    "        weight = coeff\n",
    "\n",
    "        if i == j:\n",
    "            offset += weight\n",
    "            continue\n",
    "\n",
    "        color_i, pauli_i_index = encoded_ope[i]\n",
    "        zi_p, xi_p = operator_parity[pauli_i_index]\n",
    "\n",
    "        color_j, pauli_j_index = encoded_ope[j]\n",
    "        zj_p, xj_p = operator_parity[pauli_j_index]\n",
    "\n",
    "        if zi_p or zj_p:\n",
    "            z_p = zero.copy()\n",
    "            z_p[color_i] = zi_p\n",
    "            z_p[color_j] = zj_p\n",
    "        else:\n",
    "            z_p = zero\n",
    "\n",
    "        if xi_p or xj_p:\n",
    "            x_p = zero.copy()\n",
    "            x_p[color_i] = xi_p\n",
    "            x_p[color_j] = xj_p\n",
    "        else:\n",
    "            x_p = zero\n",
    "\n",
    "        pauli_terms.append(qk_ope.SparsePauliOp(qk_ope.Pauli((z_p, x_p)), weight))\n",
    "\n",
    "\n",
    "    if pauli_terms:\n",
    "        # Remove paulis whose coefficients are zeros.\n",
    "        qubit_op = sum(pauli_terms).simplify(atol=0)\n",
    "    else:\n",
    "        # If there is no variable, we set num_nodes=1 so that qubit_op should be an operator.\n",
    "        # If num_nodes=0, I^0 = 1 (int).\n",
    "        n_qubit = max(1, n_qubit)\n",
    "        qubit_op = qk_ope.SparsePauliOp(\"I\" * n_qubit, 0)\n",
    "\n",
    "    return qubit_op, offset\n"
   ]
  },
  {
   "cell_type": "code",
   "execution_count": 19,
   "metadata": {},
   "outputs": [
    {
     "data": {
      "text/plain": [
       "(SparsePauliOp(['IZI', 'ZII', 'IIX', 'IZZ', 'ZZI', 'ZIZ', 'ZIX'],\n",
       "               coeffs=[ 0.225+0.j,  0.475+0.j,  0.25 +0.j, -0.25 +0.j, -0.025+0.j,  0.25 +0.j,\n",
       "   0.25 +0.j]),\n",
       " -0.22499999999999998)"
      ]
     },
     "execution_count": 19,
     "metadata": {},
     "output_type": "execute_result"
    }
   ],
   "source": [
    "qrac31_encode(qubo, color_group)"
   ]
  },
  {
   "cell_type": "code",
   "execution_count": 20,
   "metadata": {},
   "outputs": [
    {
     "data": {
      "text/plain": [
       "{(0, 1): -1.0, (1, 1): 1.0, (1, 2): -0.1, (2, 0): 1, (2, 3): 1}"
      ]
     },
     "execution_count": 20,
     "metadata": {},
     "output_type": "execute_result"
    }
   ],
   "source": [
    "qubo"
   ]
  },
  {
   "cell_type": "code",
   "execution_count": 21,
   "metadata": {},
   "outputs": [
    {
     "data": {
      "text/plain": [
       "{0: (0, <Pauli.Z: 3>),\n",
       " 3: (0, <Pauli.X: 1>),\n",
       " 1: (1, <Pauli.Z: 3>),\n",
       " 2: (2, <Pauli.Z: 3>)}"
      ]
     },
     "execution_count": 21,
     "metadata": {},
     "output_type": "execute_result"
    }
   ],
   "source": [
    "color_guroup"
   ]
  },
  {
   "cell_type": "code",
   "execution_count": null,
   "metadata": {},
   "outputs": [],
   "source": []
  }
 ],
 "metadata": {
  "kernelspec": {
   "display_name": "jijmodelingtranspiler-qiskit-V6gt-GO9-py3.9",
   "language": "python",
   "name": "python3"
  },
  "language_info": {
   "codemirror_mode": {
    "name": "ipython",
    "version": 3
   },
   "file_extension": ".py",
   "mimetype": "text/x-python",
   "name": "python",
   "nbconvert_exporter": "python",
   "pygments_lexer": "ipython3",
   "version": "3.10.1"
  },
  "orig_nbformat": 4
 },
 "nbformat": 4,
 "nbformat_minor": 2
}
