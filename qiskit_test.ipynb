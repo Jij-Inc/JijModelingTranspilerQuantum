{
 "cells": [
  {
   "cell_type": "code",
   "execution_count": 17,
   "metadata": {},
   "outputs": [],
   "source": [
    "import qiskit as qt\n",
    "import qiskit_aer"
   ]
  },
  {
   "cell_type": "code",
   "execution_count": 2,
   "metadata": {},
   "outputs": [
    {
     "data": {
      "image/png": "[encoded data removed]",
      "text/plain": [
       "<Figure size 454.517x284.278 with 1 Axes>"
      ]
     },
     "execution_count": 2,
     "metadata": {},
     "output_type": "execute_result"
    }
   ],
   "source": [
    "circuit = qt.QuantumCircuit(2, 2)\n",
    "\n",
    "circuit.h(0)\n",
    "circuit.cx(0, 1)\n",
    "circuit.measure([0, 1], [0, 1])\n",
    "\n",
    "circuit.draw(\"mpl\")"
   ]
  },
  {
   "cell_type": "code",
   "execution_count": 3,
   "metadata": {},
   "outputs": [
    {
     "data": {
      "text/plain": [
       "qiskit.circuit.quantumcircuit.QuantumCircuit"
      ]
     },
     "execution_count": 3,
     "metadata": {},
     "output_type": "execute_result"
    }
   ],
   "source": [
    "type(circuit)"
   ]
  },
  {
   "cell_type": "code",
   "execution_count": 4,
   "metadata": {},
   "outputs": [],
   "source": [
    "simulator = qiskit_aer.AerSimulator()\n",
    "compiled_circuit = qt.transpile(circuit, simulator)"
   ]
  },
  {
   "cell_type": "code",
   "execution_count": 5,
   "metadata": {},
   "outputs": [
    {
     "data": {
      "text/plain": [
       "qiskit.circuit.quantumcircuit.QuantumCircuit"
      ]
     },
     "execution_count": 5,
     "metadata": {},
     "output_type": "execute_result"
    }
   ],
   "source": [
    "type(compiled_circuit)"
   ]
  },
  {
   "cell_type": "code",
   "execution_count": 6,
   "metadata": {},
   "outputs": [
    {
     "data": {
      "image/png": "[encoded data removed]",
      "text/plain": [
       "<Figure size 454.517x284.278 with 1 Axes>"
      ]
     },
     "execution_count": 6,
     "metadata": {},
     "output_type": "execute_result"
    }
   ],
   "source": [
    "compiled_circuit.draw(\"mpl\")"
   ]
  },
  {
   "cell_type": "code",
   "execution_count": 7,
   "metadata": {},
   "outputs": [],
   "source": [
    "job = simulator.run(compiled_circuit, shots=1000)"
   ]
  },
  {
   "cell_type": "code",
   "execution_count": 8,
   "metadata": {},
   "outputs": [],
   "source": [
    "result = job.result()"
   ]
  },
  {
   "cell_type": "code",
   "execution_count": 9,
   "metadata": {},
   "outputs": [],
   "source": [
    "counts = result.get_counts(compiled_circuit)"
   ]
  },
  {
   "cell_type": "code",
   "execution_count": 10,
   "metadata": {},
   "outputs": [
    {
     "name": "stdout",
     "output_type": "stream",
     "text": [
      "{'11': 501, '00': 499}\n"
     ]
    }
   ],
   "source": [
    "print(counts)"
   ]
  },
  {
   "cell_type": "code",
   "execution_count": 2,
   "metadata": {},
   "outputs": [],
   "source": [
    "import dataclasses\n",
    "\n",
    "@dataclasses.dataclass\n",
    "class IsingModel:\n",
    "    quad: dict[tuple[int, int], float]\n",
    "    linear: dict[int, float]\n",
    "    constant: float\n",
    "\n",
    "    def calc_energy(self, state: list[int]) -> float:\n",
    "        \"\"\"Calculates the energy of the state.\"\"\"\n",
    "        energy = self.constant\n",
    "        for (i, j), value in self.quad.items():\n",
    "            energy += value * state[i] * state[j]\n",
    "        for i, value in self.linear.items():\n",
    "            energy += value * state[i]\n",
    "        return energy\n",
    "\n",
    "def calc_qubo_energy(qubo: dict[tuple[int, int], float], state: list[int]) -> float:\n",
    "    \"\"\"Calculates the energy of the state.\"\"\"\n",
    "    energy = 0.0\n",
    "    for (i, j), value in qubo.items():\n",
    "        energy += value * state[i] * state[j]\n",
    "    return energy\n",
    "\n",
    "\n",
    "# def cost_function(qubo: dict[tuple[int, int], float], n_qubit: int) -> qt.QuantumCircuit:\n",
    "#     \"\"\"Returns a quantum circuit that represents the QUBO.\"\"\"\n",
    "#     ising = qubo_to_ising(qubo, n_qubit)\n",
    "\n",
    "\n",
    "def qubo_to_ising(\n",
    "    qubo: dict[tuple[int, int], float]\n",
    ") -> IsingModel:\n",
    "    \"\"\"Converts a QUBO to an Ising model.\n",
    "    \n",
    "    QUBO: sum_{ij} Q_{ij} x_i x_j -> Ising: sum_{ij} J_{ij} z_i z_j + sum_i h_i z_i\n",
    "    Correspondence - x_i = (1 - z_i) / 2, where x_i in {0, 1} and z_i in {-1, 1}\n",
    "    \n",
    "    \"\"\"\n",
    "    ising_J: dict[tuple[int, int], float] = {}\n",
    "    ising_h: dict[int, float] = {}\n",
    "    constant = 0.0\n",
    "    for (i, j), value in qubo.items():\n",
    "        if i != j:\n",
    "            ising_J[(i, j)] = value / 4.0 + ising_J.get((i, j), 0.0)\n",
    "            constant += value / 4.0\n",
    "        else:\n",
    "            constant += value / 2.0\n",
    "        ising_h[i] = - value / 4.0 + ising_h.get(i, 0.0)\n",
    "        ising_h[j] = - value / 4.0 + ising_h.get(j, 0.0)\n",
    "    return IsingModel(ising_J, ising_h, constant)\n"
   ]
  },
  {
   "cell_type": "code",
   "execution_count": 12,
   "metadata": {},
   "outputs": [],
   "source": [
    "def cost_operator(qubo: dict[tuple[int, int], float], n_qubit: int) -> qt:"
   ]
  },
  {
   "cell_type": "code",
   "execution_count": 23,
   "metadata": {},
   "outputs": [
    {
     "name": "stdout",
     "output_type": "stream",
     "text": [
      "['Aer', 'AerWrapper', 'AncillaRegister', 'BasicAer', 'ClassicalRegister', 'IBMQ', 'IBMQWrapper', 'MissingOptionalLibraryError', 'QiskitError', 'QiskitVersion', 'QuantumCircuit', 'QuantumRegister', 'assemble', 'assembler', 'circuit', 'compiler', 'converters', 'dagcircuit', 'exceptions', 'execute', 'execute_function', 'extensions', 'namespace', 'new_meta_path_finder', 'pkgutil', 'providers', 'pulse', 'qasm', 'qiskit', 'qobj', 'quantum_info', 'result', 'schedule', 'scheduler', 'sequence', 'synthesis', 'sys', 'tools', 'transpile', 'transpiler', 'user_config', 'utils', 'version', 'warnings']\n"
     ]
    }
   ],
   "source": [
    "print([p for p in dir(qt) if p[0] != \"_\"])"
   ]
  },
  {
   "cell_type": "code",
   "execution_count": 28,
   "metadata": {},
   "outputs": [
    {
     "data": {
      "text/plain": [
       "Pauli('XX')"
      ]
     },
     "execution_count": 28,
     "metadata": {},
     "output_type": "execute_result"
    }
   ],
   "source": [
    "qt.quantum_info.operators.Pauli(\"XX\")"
   ]
  },
  {
   "cell_type": "code",
   "execution_count": 15,
   "metadata": {},
   "outputs": [],
   "source": [
    "ising = qubo_to_ising(qubo)"
   ]
  },
  {
   "cell_type": "code",
   "execution_count": 16,
   "metadata": {},
   "outputs": [
    {
     "data": {
      "text/plain": [
       "(18.744071068124093, 18.744071068124093)"
      ]
     },
     "execution_count": 16,
     "metadata": {},
     "output_type": "execute_result"
    }
   ],
   "source": [
    "calc_qubo_energy(qubo, random_binary), ising.calc_energy(random_spin)"
   ]
  },
  {
   "cell_type": "code",
   "execution_count": null,
   "metadata": {},
   "outputs": [],
   "source": [
    "def qaoa_qubo_cost_operator(qubo: dict[tuple[int, int], float], n_qubit: int) -> qt.QuantumCircuit:\n",
    "    \"\"\"Returns a quantum circuit that represents the QUBO.\"\"\"\n",
    "    ising = qubo_to_ising(qubo)\n",
    "    circuit = qt.QuantumCircuit(n_qubit)\n",
    "    for (i, j), value in ising.quad.items():\n",
    "        circuit += qt.ZZGate(value) * qt.ZGate(i) * qt.ZGate(j)\n",
    "    for i, value in ising.linear.items():\n",
    "        circuit += qt.ZGate(value) * qt.ZGate(i)\n",
    "    return circuit"
   ]
  },
  {
   "cell_type": "code",
   "execution_count": 31,
   "metadata": {},
   "outputs": [
    {
     "name": "stdout",
     "output_type": "stream",
     "text": [
      "P[0] = Pauli('Z')\n",
      "P[1] = Pauli('Y')\n",
      "P[2] = Pauli('X')\n",
      "P[:] = Pauli('XYZ')\n",
      "P[::-1] = Pauli('ZYX')\n"
     ]
    }
   ],
   "source": [
    "P = qt.quantum_info.operators.Pauli('-iXYZ')\n",
    "\n",
    "print('P[0] =', repr(P[0]))\n",
    "print('P[1] =', repr(P[1]))\n",
    "print('P[2] =', repr(P[2]))\n",
    "print('P[:] =', repr(P[:]))\n",
    "print('P[::-1] =', repr(P[::-1]))"
   ]
  },
  {
   "cell_type": "code",
   "execution_count": 32,
   "metadata": {},
   "outputs": [
    {
     "ename": "ValueError",
     "evalue": "The truth value of an array with more than one element is ambiguous. Use a.any() or a.all()",
     "output_type": "error",
     "traceback": [
      "\u001b[0;31m---------------------------------------------------------------------------\u001b[0m",
      "\u001b[0;31mValueError\u001b[0m                                Traceback (most recent call last)",
      "Cell \u001b[0;32mIn[32], line 4\u001b[0m\n\u001b[1;32m      1\u001b[0m paulix \u001b[39m=\u001b[39m qt\u001b[39m.\u001b[39mquantum_info\u001b[39m.\u001b[39moperators\u001b[39m.\u001b[39mPauli(\u001b[39m\"\u001b[39m\u001b[39mX\u001b[39m\u001b[39m\"\u001b[39m)\n\u001b[1;32m      2\u001b[0m pauliy \u001b[39m=\u001b[39m qt\u001b[39m.\u001b[39mquantum_info\u001b[39m.\u001b[39moperators\u001b[39m.\u001b[39mPauli(\u001b[39m\"\u001b[39m\u001b[39mY\u001b[39m\u001b[39m\"\u001b[39m)\n\u001b[0;32m----> 4\u001b[0m paulix \u001b[39m*\u001b[39;49m paulix\n",
      "File \u001b[0;32m~/.cache/pypoetry/virtualenvs/jijmodelingtranspiler-qiskit-V6gt-GO9-py3.9/lib/python3.9/site-packages/qiskit/quantum_info/operators/mixins/multiply.py:39\u001b[0m, in \u001b[0;36mMultiplyMixin.__mul__\u001b[0;34m(self, other)\u001b[0m\n\u001b[1;32m     38\u001b[0m \u001b[39mdef\u001b[39;00m \u001b[39m__mul__\u001b[39m(\u001b[39mself\u001b[39m, other):\n\u001b[0;32m---> 39\u001b[0m     \u001b[39mreturn\u001b[39;00m \u001b[39mself\u001b[39;49m\u001b[39m.\u001b[39;49m_multiply(other)\n",
      "File \u001b[0;32m~/.cache/pypoetry/virtualenvs/jijmodelingtranspiler-qiskit-V6gt-GO9-py3.9/lib/python3.9/site-packages/qiskit/quantum_info/operators/symplectic/pauli.py:519\u001b[0m, in \u001b[0;36mPauli._multiply\u001b[0;34m(self, other)\u001b[0m\n\u001b[1;32m    518\u001b[0m \u001b[39mdef\u001b[39;00m \u001b[39m_multiply\u001b[39m(\u001b[39mself\u001b[39m, other):\n\u001b[0;32m--> 519\u001b[0m     \u001b[39mreturn\u001b[39;00m Pauli(\u001b[39msuper\u001b[39;49m()\u001b[39m.\u001b[39;49m_multiply(other))\n",
      "File \u001b[0;32m~/.cache/pypoetry/virtualenvs/jijmodelingtranspiler-qiskit-V6gt-GO9-py3.9/lib/python3.9/site-packages/qiskit/quantum_info/operators/symplectic/base_pauli.py:178\u001b[0m, in \u001b[0;36mBasePauli._multiply\u001b[0;34m(self, other)\u001b[0m\n\u001b[1;32m    176\u001b[0m     phase \u001b[39m=\u001b[39m np\u001b[39m.\u001b[39marray([\u001b[39mself\u001b[39m\u001b[39m.\u001b[39m_phase_from_complex(phase) \u001b[39mfor\u001b[39;00m phase \u001b[39min\u001b[39;00m other])\n\u001b[1;32m    177\u001b[0m \u001b[39melse\u001b[39;00m:\n\u001b[0;32m--> 178\u001b[0m     phase \u001b[39m=\u001b[39m \u001b[39mself\u001b[39;49m\u001b[39m.\u001b[39;49m_phase_from_complex(other)\n\u001b[1;32m    179\u001b[0m \u001b[39mreturn\u001b[39;00m BasePauli(\u001b[39mself\u001b[39m\u001b[39m.\u001b[39m_z, \u001b[39mself\u001b[39m\u001b[39m.\u001b[39m_x, np\u001b[39m.\u001b[39mmod(\u001b[39mself\u001b[39m\u001b[39m.\u001b[39m_phase \u001b[39m+\u001b[39m phase, \u001b[39m4\u001b[39m))\n",
      "File \u001b[0;32m~/.cache/pypoetry/virtualenvs/jijmodelingtranspiler-qiskit-V6gt-GO9-py3.9/lib/python3.9/site-packages/qiskit/quantum_info/operators/symplectic/base_pauli.py:358\u001b[0m, in \u001b[0;36mBasePauli._phase_from_complex\u001b[0;34m(coeff)\u001b[0m\n\u001b[1;32m    355\u001b[0m \u001b[39m@staticmethod\u001b[39m\n\u001b[1;32m    356\u001b[0m \u001b[39mdef\u001b[39;00m \u001b[39m_phase_from_complex\u001b[39m(coeff):\n\u001b[1;32m    357\u001b[0m \u001b[39m    \u001b[39m\u001b[39m\"\"\"Return the phase from a label\"\"\"\u001b[39;00m\n\u001b[0;32m--> 358\u001b[0m     \u001b[39mif\u001b[39;00m np\u001b[39m.\u001b[39misclose(coeff, \u001b[39m1\u001b[39m):\n\u001b[1;32m    359\u001b[0m         \u001b[39mreturn\u001b[39;00m \u001b[39m0\u001b[39m\n\u001b[1;32m    360\u001b[0m     \u001b[39mif\u001b[39;00m np\u001b[39m.\u001b[39misclose(coeff, \u001b[39m-\u001b[39m\u001b[39m1\u001b[39mj):\n",
      "\u001b[0;31mValueError\u001b[0m: The truth value of an array with more than one element is ambiguous. Use a.any() or a.all()"
     ]
    }
   ],
   "source": [
    "paulix = qt.quantum_info.operators.Pauli(\"X\")\n",
    "pauliy = qt.quantum_info.operators.Pauli(\"Y\")\n",
    "\n",
    "paulix * paulix"
   ]
  },
  {
   "cell_type": "code",
   "execution_count": 33,
   "metadata": {},
   "outputs": [
    {
     "ename": "AttributeError",
     "evalue": "module 'qiskit' has no attribute 'opflow'",
     "output_type": "error",
     "traceback": [
      "\u001b[0;31m---------------------------------------------------------------------------\u001b[0m",
      "\u001b[0;31mAttributeError\u001b[0m                            Traceback (most recent call last)",
      "Cell \u001b[0;32mIn[33], line 1\u001b[0m\n\u001b[0;32m----> 1\u001b[0m qt\u001b[39m.\u001b[39;49mopflow\n",
      "\u001b[0;31mAttributeError\u001b[0m: module 'qiskit' has no attribute 'opflow'"
     ]
    }
   ],
   "source": [
    "qt.opflow"
   ]
  },
  {
   "cell_type": "code",
   "execution_count": 40,
   "metadata": {},
   "outputs": [],
   "source": [
    "xx = qt.quantum_info.operators.Pauli(\"IIIIXX\")\n",
    "xy = qt.quantum_info.operators.Pauli(\"IIIIXY\")"
   ]
  },
  {
   "cell_type": "code",
   "execution_count": 78,
   "metadata": {},
   "outputs": [],
   "source": [
    "import numpy as np\n",
    "import qiskit.quantum_info as qt_ope\n",
    "\n",
    "def to_ising_operator_from_qubo(qubo: dict[tuple[int, int], float], n_qubit: int) -> qt_ope.SparsePauliOp:\n",
    "    \"\"\"Returns a quantum circuit that represents the QUBO.\"\"\"\n",
    "    ising = qubo_to_ising(qubo)\n",
    "    pauli_terms = []\n",
    "\n",
    "    offset = ising.constant\n",
    "    zero = np.zeros(n_qubit, dtype=bool)\n",
    "\n",
    "    # convert linear parts of the objective function into Hamiltonian.\n",
    "    for idx, coef in ising.linear.items():\n",
    "        z_p = zero.copy()\n",
    "        weight = coef\n",
    "        z_p[idx] = True\n",
    "\n",
    "        pauli_terms.append(qt_ope.SparsePauliOp(qt_ope.Pauli((z_p, zero)), -weight))\n",
    "        offset += weight\n",
    "\n",
    "    # create Pauli terms\n",
    "    for (i, j), coeff in ising.quad.items():\n",
    "        weight = coeff\n",
    "\n",
    "        if i == j:\n",
    "            offset += weight\n",
    "        else:\n",
    "            z_p = zero.copy()\n",
    "            z_p[i] = True\n",
    "            z_p[j] = True\n",
    "            pauli_terms.append(qt_ope.SparsePauliOp(qt_ope.Pauli((z_p, zero)), weight))\n",
    "\n",
    "        z_p = zero.copy()\n",
    "        z_p[i] = True\n",
    "        pauli_terms.append(qt_ope.SparsePauliOp(qt_ope.Pauli((z_p, zero)), -weight))\n",
    "\n",
    "        z_p = zero.copy()\n",
    "        z_p[j] = True\n",
    "        pauli_terms.append(qt_ope.SparsePauliOp(qt_ope.Pauli((z_p, zero)), -weight))\n",
    "\n",
    "        offset += weight\n",
    "\n",
    "    if pauli_terms:\n",
    "        # Remove paulis whose coefficients are zeros.\n",
    "        qubit_op = sum(pauli_terms).simplify(atol=0)\n",
    "    else:\n",
    "        # If there is no variable, we set num_nodes=1 so that qubit_op should be an operator.\n",
    "        # If num_nodes=0, I^0 = 1 (int).\n",
    "        num_vars = max(1, num_vars)\n",
    "        qubit_op = qt_ope.SparsePauliOp(\"I\" * num_vars, 0)\n",
    "\n",
    "    return qubit_op, offset\n"
   ]
  },
  {
   "cell_type": "code",
   "execution_count": 80,
   "metadata": {},
   "outputs": [],
   "source": [
    "ising_H, offset = to_ising_operator_from_qubo({(0, 0): -1, (0, 1): 2}, 2)"
   ]
  },
  {
   "cell_type": "code",
   "execution_count": 83,
   "metadata": {},
   "outputs": [
    {
     "ename": "AttributeError",
     "evalue": "module 'qiskit' has no attribute 'algorithms'",
     "output_type": "error",
     "traceback": [
      "\u001b[0;31m---------------------------------------------------------------------------\u001b[0m",
      "\u001b[0;31mAttributeError\u001b[0m                            Traceback (most recent call last)",
      "Cell \u001b[0;32mIn[83], line 1\u001b[0m\n\u001b[0;32m----> 1\u001b[0m qt\u001b[39m.\u001b[39;49malgorithms\u001b[39m.\u001b[39mQAOA\n",
      "\u001b[0;31mAttributeError\u001b[0m: module 'qiskit' has no attribute 'algorithms'"
     ]
    }
   ],
   "source": []
  },
  {
   "cell_type": "code",
   "execution_count": 68,
   "metadata": {},
   "outputs": [],
   "source": [
    "xx = qt.quantum_info.operators.SparsePauliOp(\"IIIIXX\")\n",
    "xy = qt.quantum_info.operators.SparsePauliOp(\"IIIIXY\")"
   ]
  },
  {
   "cell_type": "code",
   "execution_count": 69,
   "metadata": {},
   "outputs": [
    {
     "ename": "QiskitError",
     "evalue": "'Invalid input data for Pauli.'",
     "output_type": "error",
     "traceback": [
      "\u001b[0;31m---------------------------------------------------------------------------\u001b[0m",
      "\u001b[0;31mQiskitError\u001b[0m                               Traceback (most recent call last)",
      "Cell \u001b[0;32mIn[69], line 1\u001b[0m\n\u001b[0;32m----> 1\u001b[0m \u001b[39msum\u001b[39m(qt\u001b[39m.\u001b[39;49mquantum_info\u001b[39m.\u001b[39;49mPauliList([xx, xy]))\n",
      "File \u001b[0;32m~/.cache/pypoetry/virtualenvs/jijmodelingtranspiler-qiskit-V6gt-GO9-py3.9/lib/python3.9/site-packages/qiskit/quantum_info/operators/symplectic/pauli_list.py:140\u001b[0m, in \u001b[0;36mPauliList.__init__\u001b[0;34m(self, data)\u001b[0m\n\u001b[1;32m    137\u001b[0m     base_z, base_x, base_phase \u001b[39m=\u001b[39m \u001b[39mself\u001b[39m\u001b[39m.\u001b[39m_from_array(data\u001b[39m.\u001b[39mZ, data\u001b[39m.\u001b[39mX)\n\u001b[1;32m    138\u001b[0m \u001b[39melse\u001b[39;00m:\n\u001b[1;32m    139\u001b[0m     \u001b[39m# Conversion as iterable of Paulis\u001b[39;00m\n\u001b[0;32m--> 140\u001b[0m     base_z, base_x, base_phase \u001b[39m=\u001b[39m \u001b[39mself\u001b[39;49m\u001b[39m.\u001b[39;49m_from_paulis(data)\n\u001b[1;32m    142\u001b[0m \u001b[39m# Initialize BasePauli\u001b[39;00m\n\u001b[1;32m    143\u001b[0m \u001b[39msuper\u001b[39m()\u001b[39m.\u001b[39m\u001b[39m__init__\u001b[39m(base_z, base_x, base_phase)\n",
      "File \u001b[0;32m~/.cache/pypoetry/virtualenvs/jijmodelingtranspiler-qiskit-V6gt-GO9-py3.9/lib/python3.9/site-packages/qiskit/quantum_info/operators/symplectic/pauli_list.py:185\u001b[0m, in \u001b[0;36mPauliList._from_paulis\u001b[0;34m(data)\u001b[0m\n\u001b[1;32m    183\u001b[0m \u001b[39mfor\u001b[39;00m i \u001b[39min\u001b[39;00m data:\n\u001b[1;32m    184\u001b[0m     \u001b[39mif\u001b[39;00m \u001b[39mnot\u001b[39;00m \u001b[39misinstance\u001b[39m(i, Pauli):\n\u001b[0;32m--> 185\u001b[0m         paulis\u001b[39m.\u001b[39mappend(Pauli(i))\n\u001b[1;32m    186\u001b[0m     \u001b[39melse\u001b[39;00m:\n\u001b[1;32m    187\u001b[0m         paulis\u001b[39m.\u001b[39mappend(i)\n",
      "File \u001b[0;32m~/.cache/pypoetry/virtualenvs/jijmodelingtranspiler-qiskit-V6gt-GO9-py3.9/lib/python3.9/site-packages/qiskit/quantum_info/operators/symplectic/pauli.py:209\u001b[0m, in \u001b[0;36mPauli.__init__\u001b[0;34m(self, data, x, z, label)\u001b[0m\n\u001b[1;32m    207\u001b[0m     base_z, base_x, base_phase \u001b[39m=\u001b[39m \u001b[39mself\u001b[39m\u001b[39m.\u001b[39m_from_label(label)\n\u001b[1;32m    208\u001b[0m \u001b[39melse\u001b[39;00m:\n\u001b[0;32m--> 209\u001b[0m     \u001b[39mraise\u001b[39;00m QiskitError(\u001b[39m\"\u001b[39m\u001b[39mInvalid input data for Pauli.\u001b[39m\u001b[39m\"\u001b[39m)\n\u001b[1;32m    211\u001b[0m \u001b[39m# Initialize BasePauli\u001b[39;00m\n\u001b[1;32m    212\u001b[0m \u001b[39mif\u001b[39;00m base_z\u001b[39m.\u001b[39mshape[\u001b[39m0\u001b[39m] \u001b[39m!=\u001b[39m \u001b[39m1\u001b[39m:\n",
      "\u001b[0;31mQiskitError\u001b[0m: 'Invalid input data for Pauli.'"
     ]
    }
   ],
   "source": [
    "sum(qt.quantum_info.PauliList([xx, xy]))"
   ]
  },
  {
   "cell_type": "code",
   "execution_count": 61,
   "metadata": {},
   "outputs": [],
   "source": [
    "import qiskit_optimization as qt_opt"
   ]
  },
  {
   "cell_type": "code",
   "execution_count": 63,
   "metadata": {},
   "outputs": [
    {
     "data": {
      "text/plain": [
       "['INFINITY',\n",
       " 'QiskitOptimizationError',\n",
       " 'QuadraticProgram',\n",
       " '__all__',\n",
       " '__builtins__',\n",
       " '__cached__',\n",
       " '__doc__',\n",
       " '__file__',\n",
       " '__loader__',\n",
       " '__name__',\n",
       " '__package__',\n",
       " '__path__',\n",
       " '__spec__',\n",
       " '__version__',\n",
       " 'exceptions',\n",
       " 'infinity',\n",
       " 'optionals',\n",
       " 'problems',\n",
       " 'version']"
      ]
     },
     "execution_count": 63,
     "metadata": {},
     "output_type": "execute_result"
    }
   ],
   "source": [
    "dir(qt_opt)"
   ]
  },
  {
   "cell_type": "code",
   "execution_count": null,
   "metadata": {},
   "outputs": [],
   "source": []
  }
 ],
 "metadata": {
  "kernelspec": {
   "display_name": "jijmodelingtranspiler-qiskit-V6gt-GO9-py3.9",
   "language": "python",
   "name": "python3"
  },
  "language_info": {
   "codemirror_mode": {
    "name": "ipython",
    "version": 3
   },
   "file_extension": ".py",
   "mimetype": "text/x-python",
   "name": "python",
   "nbconvert_exporter": "python",
   "pygments_lexer": "ipython3",
   "version": "3.9.16"
  },
  "orig_nbformat": 4
 },
 "nbformat": 4,
 "nbformat_minor": 2
}
